{
 "cells": [
  {
   "cell_type": "code",
   "execution_count": 1,
   "metadata": {},
   "outputs": [],
   "source": [
    "#! usr/bin/env python3\n",
    "from tqdm import tqdm_notebook as tqdm\n",
    "import praw\n",
    "import pandas as pd\n",
    "import datetime as dt\n",
    "from PIL import Image\n",
    "import urllib.request\n",
    "import wikipedia\n",
    "import feather\n",
    "\n",
    "import re\n",
    "import glob\n",
    "import time\n",
    "\n",
    "import ssl\n",
    "\n",
    "ssl._create_default_https_context = ssl._create_unverified_context\n",
    "\n",
    "import IPython.display as ipd\n",
    "import pyttsx3\n",
    "import os\n",
    "import uuid\n",
    "import operator\n",
    "\n",
    "from shutil import copyfile\n",
    "\n",
    "from pydub import AudioSegment\n",
    "from google.cloud import texttospeech"
   ]
  },
  {
   "cell_type": "code",
   "execution_count": 2,
   "metadata": {},
   "outputs": [],
   "source": [
    "os.environ[\"GOOGLE_APPLICATION_CREDENTIALS\"]=\"/Users/anthonycelio/xx/My_Projectectect-ef53cc7c18c4.json\""
   ]
  },
  {
   "cell_type": "code",
   "execution_count": null,
   "metadata": {},
   "outputs": [],
   "source": [
    "reddit = praw.Reddit(client_id='ZWkdQHV89SHfEw', \\\n",
    "                     client_secret='DE9g8daIEcx7SEH3seN41aDKmIs', \\\n",
    "                     user_agent='Chester', \\\n",
    "                     username='user_00000000000001', \\\n",
    "                     password='Russianriver987')\n",
    "\n",
    "subreddit = reddit.subreddit('Unexpected')\n",
    "#subreddit = reddit.subreddit('cringeanarchy')\n",
    "\n",
    "#top_subreddit = subreddit.hot()\n",
    "top_subreddit = subreddit.top('week')\n",
    "\n",
    "#top_subreddit = subreddit.top(limit=50)\n",
    "#for submission in subreddit.hot(limit=1):\n",
    "#    print(submission.title, submission.id)\n",
    "    \n",
    "topics_dict = { \"title\":[],\n",
    "               \"score\":[],\n",
    "               \"id\":[],\n",
    "               \"url\":[],\n",
    "               \"comms_num\":[],\n",
    "               \"created\": [],\n",
    "               \"body\":[],\n",
    "               \"vid\":[]\n",
    "                  }\n",
    "\n",
    "for submission in top_subreddit:\n",
    "    topics_dict[\"title\"].append(submission.title)\n",
    "    topics_dict[\"score\"].append(submission.score)\n",
    "    topics_dict[\"id\"].append(submission.id)\n",
    "    topics_dict[\"url\"].append(submission.url)\n",
    "    topics_dict[\"comms_num\"].append(submission.num_comments)\n",
    "    topics_dict[\"created\"].append(submission.created)\n",
    "    topics_dict[\"body\"].append(submission.selftext)\n",
    "    topics_dict[\"vid\"].append(submission.media)\n",
    "    \n",
    "topics_data = pd.DataFrame(topics_dict)"
   ]
  },
  {
   "cell_type": "code",
   "execution_count": null,
   "metadata": {},
   "outputs": [],
   "source": [
    "#submission.media['reddit_video']['fallback_url']"
   ]
  },
  {
   "cell_type": "code",
   "execution_count": null,
   "metadata": {},
   "outputs": [],
   "source": [
    "topics_data"
   ]
  },
  {
   "cell_type": "code",
   "execution_count": null,
   "metadata": {},
   "outputs": [],
   "source": [
    "topics_data['comms_num'][5]"
   ]
  },
  {
   "cell_type": "code",
   "execution_count": null,
   "metadata": {},
   "outputs": [],
   "source": [
    "brk = 0\n",
    "use = []\n",
    "for i in range(100):\n",
    "    if topics_data[\"comms_num\"][i] >= 13:\n",
    "        if topics_data[\"vid\"][i] != None:\n",
    "            try:\n",
    "                xex = topics_data[\"vid\"][i][\"reddit_video\"][\"duration\"]\n",
    "                if xex > 4 and xex < 30:\n",
    "                    use.append(i)\n",
    "                    brk += 1\n",
    "            except:\n",
    "                pass\n",
    "    \n",
    "    #if brk >= 5:\n",
    "     #   break"
   ]
  },
  {
   "cell_type": "code",
   "execution_count": null,
   "metadata": {},
   "outputs": [],
   "source": [
    "len(use)"
   ]
  },
  {
   "cell_type": "code",
   "execution_count": null,
   "metadata": {},
   "outputs": [],
   "source": [
    "z99 = 0\n",
    "for z, i in enumerate(topics_data['url']):\n",
    "    if z99 < 10:\n",
    "        if i[-3:] == 'jpg':\n",
    "            urllib.request.urlretrieve(i, i[-10:])\n",
    "            z99 += 1\n",
    "            print(z, i)"
   ]
  },
  {
   "cell_type": "code",
   "execution_count": null,
   "metadata": {},
   "outputs": [],
   "source": [
    "topics_data.loc[0]"
   ]
  },
  {
   "cell_type": "code",
   "execution_count": null,
   "metadata": {},
   "outputs": [],
   "source": [
    "!pwd"
   ]
  },
  {
   "cell_type": "code",
   "execution_count": null,
   "metadata": {},
   "outputs": [],
   "source": [
    "def ret_com(num):\n",
    "    po = topics_data['id'][num]\n",
    "    submission = reddit.submission(id=po)\n",
    "    submission.comments.replace_more(limit=1)\n",
    "    chop = []\n",
    "    \n",
    "    for top_level_comment in submission.comments:\n",
    "        chop.append([top_level_comment.body])\n",
    "        for i in (top_level_comment.replies):\n",
    "            chop.append([i.body])\n",
    "            for x in (i.replies):\n",
    "                chop.append([x.body])\n",
    "                for z in (x.replies):\n",
    "                    chop.append([z.body])\n",
    "                    for cc in (z.replies):\n",
    "                        chop.append([cc.body])\n",
    "                        for wo in (cc.replies):\n",
    "                            chop.append([wo.body])\n",
    "                            for zoo in (wo.replies):\n",
    "                                chop.append([zoo.body])\n",
    "\n",
    "    grab = []\n",
    "    for i in chop:\n",
    "        if len(i[0]) > 10:\n",
    "            if len(i[0]) < 300:\n",
    "                for x in i:\n",
    "                    i = re.sub(r'\\w+:\\/{2}[\\d\\w-]+(\\.[\\d\\w-]+)*(?:(?:\\/[^\\s/]*))*', '', x)\n",
    "                    i = re.sub(r'[^a-zA-Z1-9.,()\\'\"?! ]+', '', i)\n",
    "                    i = i.replace('ITAP', 'I took a picture')\n",
    "\n",
    "                    grab.append(i)    \n",
    "    #[topics_data['title'][num]] + grab\n",
    "    frst = topics_data['title'][num].replace('ITAP of ', '')\n",
    "    grab.insert(0, frst.replace('ITAP ', ''))\n",
    "\n",
    "    return grab[:24]"
   ]
  },
  {
   "cell_type": "code",
   "execution_count": null,
   "metadata": {},
   "outputs": [],
   "source": [
    "cc = ret_com(1)"
   ]
  },
  {
   "cell_type": "code",
   "execution_count": null,
   "metadata": {},
   "outputs": [],
   "source": [
    "cc"
   ]
  },
  {
   "cell_type": "code",
   "execution_count": null,
   "metadata": {},
   "outputs": [],
   "source": [
    "len(cc)"
   ]
  },
  {
   "cell_type": "code",
   "execution_count": null,
   "metadata": {},
   "outputs": [],
   "source": [
    "if cc[-1:][0][-1:] == '?':\n",
    "    cc = cc[:-1]\n",
    "if cc[-1:][0][-2:] == '?':\n",
    "    cc = cc[:-1]"
   ]
  },
  {
   "cell_type": "code",
   "execution_count": null,
   "metadata": {},
   "outputs": [],
   "source": [
    "cc[:-1]"
   ]
  },
  {
   "cell_type": "code",
   "execution_count": null,
   "metadata": {},
   "outputs": [],
   "source": [
    "def TTS_lena(str, wave_name):\n",
    "    client = texttospeech.TextToSpeechClient()\n",
    "    synthesis_input = texttospeech.types.SynthesisInput(text=str)\n",
    "\n",
    "    voice = texttospeech.types.VoiceSelectionParams(\n",
    "        language_code='en-AU',\n",
    "        name='en-AU-Wavenet-A',\n",
    "        ssml_gender=texttospeech.enums.SsmlVoiceGender.FEMALE)\n",
    "\n",
    "    audio_config = texttospeech.types.AudioConfig(\n",
    "        speaking_rate=0.91,\n",
    "        pitch=0,\n",
    "        audio_encoding=texttospeech.enums.AudioEncoding.MP3)\n",
    "    response = client.synthesize_speech(synthesis_input, voice, audio_config)\n",
    "    with open('output.mp3', 'wb') as out:\n",
    "        out.write(response.audio_content)\n",
    "    newAudio = AudioSegment.from_mp3('output.mp3')\n",
    "    newAudio.export(wave_name + '.wav', format=\"wav\")\n",
    "    os.remove('output.mp3')"
   ]
  },
  {
   "cell_type": "code",
   "execution_count": 3,
   "metadata": {},
   "outputs": [],
   "source": [
    "def TTS_stac(str, wave_name):\n",
    "    client = texttospeech.TextToSpeechClient()\n",
    "    synthesis_input = texttospeech.types.SynthesisInput(text=str)\n",
    "\n",
    "    voice = texttospeech.types.VoiceSelectionParams(\n",
    "        language_code='en-US',\n",
    "        name='en-US-Wavenet-F',\n",
    "        ssml_gender=texttospeech.enums.SsmlVoiceGender.FEMALE)\n",
    "\n",
    "    audio_config = texttospeech.types.AudioConfig(\n",
    "        speaking_rate=0.89,\n",
    "        pitch=-1,\n",
    "        audio_encoding=texttospeech.enums.AudioEncoding.MP3)\n",
    "    response = client.synthesize_speech(synthesis_input, voice, audio_config)\n",
    "    with open('output.mp3', 'wb') as out:\n",
    "        out.write(response.audio_content)\n",
    "    newAudio = AudioSegment.from_mp3('output.mp3')\n",
    "    newAudio.export(wave_name + '.wav', format=\"wav\")\n",
    "    os.remove('output.mp3')"
   ]
  },
  {
   "cell_type": "code",
   "execution_count": null,
   "metadata": {},
   "outputs": [],
   "source": [
    "def wav_2_phone(wav_file):\n",
    "    new = AudioSegment.from_wav(wav_file)\n",
    "    new = new.apply_gain(12).low_pass_filter(30000).high_pass_filter(30000)\n",
    "    new = new + 15\n",
    "    new.export(wav_file, format=\"wav\")"
   ]
  },
  {
   "cell_type": "code",
   "execution_count": null,
   "metadata": {},
   "outputs": [],
   "source": [
    "wdir = '/Users/anthonycelio/Documents/deep_news/!machine/corespondants/16/'\n",
    "if not os.path.exists(wdir): os.makedirs(wdir)"
   ]
  },
  {
   "cell_type": "code",
   "execution_count": null,
   "metadata": {},
   "outputs": [],
   "source": [
    "(use[10:14])"
   ]
  },
  {
   "cell_type": "code",
   "execution_count": null,
   "metadata": {},
   "outputs": [],
   "source": [
    "for m in tqdm(range(len(use[10:15]))):\n",
    "    t = str(int(time.time()))\n",
    "    sha = wdir+t+'/'\n",
    "    os.makedirs(sha)\n",
    "    os.chdir(sha)\n",
    "\n",
    "    cc = ret_com(use[10:15][m])[:20]\n",
    "    if cc[-1:][0][-1:] == '?':\n",
    "        cc = cc[:-1]\n",
    "    if cc[-1:][0][-2:] == '?':\n",
    "        cc = cc[:-1]\n",
    "    mp4s = topics_data[\"vid\"][use[10:15][m]][\"reddit_video\"][\"fallback_url\"]\n",
    "    urllib.request.urlretrieve(mp4s, mp4s[-14:]+'.mp4')\n",
    "    for z, i in enumerate(tqdm(cc)):\n",
    "        if z % 2 == 0:\n",
    "            TTS_lena(i, (str(z)).zfill(2))\n",
    "            wav_2_phone((str(z)).zfill(2)+'.wav')\n",
    "        else:\n",
    "            TTS_stac(i, (str(z)).zfill(2))"
   ]
  },
  {
   "cell_type": "code",
   "execution_count": null,
   "metadata": {},
   "outputs": [],
   "source": [
    "su = '''The Parasol (also known as El Quitasol) is one of a cartoon series of oil on linen paintings made by the painter Francisco Goya. This series of paintings was specifically made in order to be transformed into tapestries that would be hung on the walls of the Royal Palace of El Pardo in Madrid, Spain. The tapestries showed serene events in everyday life, which made them a nice addition to the dining room of Prince and Princess of Asturias—the future King Charles IV and Maria Luisa of Parma. The queen called on Goya because she wanted to decorate the dining room with cheerful scenes; The Parasol and the other tapestry paintings were Goya's response to this request. The painting is currently located in the Museo del Prado in Madrid as is another in the series, Blind man's bluff. '''"
   ]
  },
  {
   "cell_type": "code",
   "execution_count": null,
   "metadata": {},
   "outputs": [],
   "source": [
    "TTS_stac(su, '/Users/anthonycelio/Desktop/goya')"
   ]
  },
  {
   "cell_type": "code",
   "execution_count": null,
   "metadata": {},
   "outputs": [],
   "source": []
  },
  {
   "cell_type": "code",
   "execution_count": null,
   "metadata": {},
   "outputs": [],
   "source": []
  },
  {
   "cell_type": "code",
   "execution_count": null,
   "metadata": {},
   "outputs": [],
   "source": [
    "!pip install feather-format"
   ]
  },
  {
   "cell_type": "code",
   "execution_count": null,
   "metadata": {},
   "outputs": [],
   "source": []
  },
  {
   "cell_type": "code",
   "execution_count": 15,
   "metadata": {},
   "outputs": [],
   "source": [
    "wdir = '/Users/anthonycelio/Documents/deep_news/!machine/art_set/wiki_paintings/1a5a22f954a9/'\n",
    "os.chdir(wdir)"
   ]
  },
  {
   "cell_type": "code",
   "execution_count": 16,
   "metadata": {},
   "outputs": [
    {
     "data": {
      "text/plain": [
       "\"Paris Street; Rainy Day (French: Rue de Paris, temps de pluie) is a large 1877 oil painting by the French artist Gustave Caillebotte (1848–1894), and is his best known work It shows a number of individuals walking through the Place de Dublin, then known as the Carrefour de Moscou, at an intersection to the east of the Gare Saint-Lazare in north Paris Although Caillebotte was a friend and patron of many of the impressionist painters, and this work is part of that school, it differs in its realism and reliance on line rather than broad brush strokesCaillebotte's interest in photography is evident The figures in the foreground appear out of focus, those in the mid-distance (the carriage and the pedestrians in the intersection) have sharp edges, while the features in the background become progressively indistinct The severe cropping of some figures –particularly the man to the far right– further suggests the influence of photographyThe painting was first shown at the Third Impressionist Exhibition of 1877 It is currently owned by the Art Institute of Chicago AIC curator Gloria Groom described the work as the great picture of urban life in the late 19th century The tone of the light indicates that the painting is set on a wintery afternoon, and the two main figures walk underneath an umbrella  They are dressed in the height of contemporary Parisian fashion She wears a hat, veil, diamond earring, demure brown dress, and a fur lined coat, described in 1877 as modern – or should I say, the latest fashion.\""
      ]
     },
     "execution_count": 16,
     "metadata": {},
     "output_type": "execute_result"
    }
   ],
   "source": [
    "path = wdir+'my_data.feather'\n",
    "wdf = feather.read_dataframe(path)\n",
    "wdf.loc[0][0]"
   ]
  },
  {
   "cell_type": "code",
   "execution_count": 17,
   "metadata": {},
   "outputs": [],
   "source": [
    "TTS_stac(wdf.loc[0][0], 'TTS')"
   ]
  },
  {
   "cell_type": "code",
   "execution_count": null,
   "metadata": {},
   "outputs": [],
   "source": [
    "sea = [int(i) for i in os.listdir(wdir) if len(i) is 10]"
   ]
  },
  {
   "cell_type": "code",
   "execution_count": null,
   "metadata": {},
   "outputs": [],
   "source": [
    "sea"
   ]
  },
  {
   "cell_type": "code",
   "execution_count": null,
   "metadata": {},
   "outputs": [],
   "source": [
    "print('''var vs = '''+'\"'+str(wdir)+'\"'+'''\n",
    "var myblocnFolder = new Folder(vs).getFiles()\n",
    "lena = '''+str(sea))"
   ]
  },
  {
   "cell_type": "code",
   "execution_count": null,
   "metadata": {},
   "outputs": [],
   "source": []
  },
  {
   "cell_type": "code",
   "execution_count": null,
   "metadata": {},
   "outputs": [],
   "source": []
  },
  {
   "cell_type": "code",
   "execution_count": null,
   "metadata": {},
   "outputs": [],
   "source": []
  },
  {
   "cell_type": "code",
   "execution_count": null,
   "metadata": {},
   "outputs": [],
   "source": []
  },
  {
   "cell_type": "code",
   "execution_count": null,
   "metadata": {},
   "outputs": [],
   "source": [
    "wav_2_phone((str(z)).zfill(2)+'.wav')"
   ]
  },
  {
   "cell_type": "code",
   "execution_count": null,
   "metadata": {},
   "outputs": [],
   "source": [
    "lena = '/Users/anthonycelio/Documents/deep_news/correspondants/lena/'"
   ]
  },
  {
   "cell_type": "code",
   "execution_count": null,
   "metadata": {},
   "outputs": [],
   "source": [
    "os.chdir(lena)"
   ]
  },
  {
   "cell_type": "code",
   "execution_count": null,
   "metadata": {},
   "outputs": [],
   "source": [
    "TTS_stac('Welcome back. Joining us now on the phone, our correspondant Lena Bronsky. How are you, Lena?', lena+'int_lena1')"
   ]
  },
  {
   "cell_type": "code",
   "execution_count": null,
   "metadata": {},
   "outputs": [],
   "source": [
    "TTS_lena('Fine Stacy, How are you?', lena+'lena_r1')\n",
    "wav_2_phone(lena+'lena_r1'+'.wav')"
   ]
  },
  {
   "cell_type": "code",
   "execution_count": null,
   "metadata": {},
   "outputs": [],
   "source": [
    "TTS_stac('''Great. I understand you have some photos for us. What's your first image?''', lena+'St_go_image')"
   ]
  },
  {
   "cell_type": "code",
   "execution_count": null,
   "metadata": {},
   "outputs": [],
   "source": [
    "TTS_stac('''Okay, What's next, Lena?''', lena+'St_nextQ')"
   ]
  },
  {
   "cell_type": "code",
   "execution_count": null,
   "metadata": {},
   "outputs": [],
   "source": [
    "TTS_stac('''and this concludes our broadcast. Thanks for watching.''', lena+'St_show_end' )"
   ]
  },
  {
   "cell_type": "code",
   "execution_count": null,
   "metadata": {},
   "outputs": [],
   "source": []
  },
  {
   "cell_type": "code",
   "execution_count": null,
   "metadata": {},
   "outputs": [],
   "source": [
    "//*[@id=\"content\"]/article/div[4]/div[1]/p/text()"
   ]
  },
  {
   "cell_type": "code",
   "execution_count": null,
   "metadata": {},
   "outputs": [],
   "source": []
  },
  {
   "cell_type": "code",
   "execution_count": null,
   "metadata": {},
   "outputs": [],
   "source": []
  },
  {
   "cell_type": "code",
   "execution_count": null,
   "metadata": {},
   "outputs": [],
   "source": [
    "TTS_lena('Thank you for having me, Stacy.', lena+'lena_out')\n",
    "wav_2_phone(lena+'lena_out'+'.wav')"
   ]
  },
  {
   "cell_type": "code",
   "execution_count": null,
   "metadata": {},
   "outputs": [],
   "source": []
  },
  {
   "cell_type": "code",
   "execution_count": null,
   "metadata": {},
   "outputs": [],
   "source": []
  },
  {
   "cell_type": "code",
   "execution_count": null,
   "metadata": {},
   "outputs": [],
   "source": [
    "print (wikipedia.summary(\"Lucca Madonna\"))\n",
    "len(wikipedia.summary(\"Lucca Madonna\"))"
   ]
  },
  {
   "cell_type": "code",
   "execution_count": null,
   "metadata": {},
   "outputs": [],
   "source": [
    "tit = \"The Accolade painting)\""
   ]
  },
  {
   "cell_type": "code",
   "execution_count": null,
   "metadata": {},
   "outputs": [],
   "source": [
    "tit = \"Lucca Madonna\""
   ]
  },
  {
   "cell_type": "code",
   "execution_count": null,
   "metadata": {},
   "outputs": [],
   "source": [
    "tit = \"Emily Carr (1939) Odds and Ends\""
   ]
  },
  {
   "cell_type": "code",
   "execution_count": null,
   "metadata": {},
   "outputs": [],
   "source": [
    "print (wikipedia.summary(tit))\n",
    "len(wikipedia.summary(tit))"
   ]
  },
  {
   "cell_type": "code",
   "execution_count": null,
   "metadata": {},
   "outputs": [],
   "source": [
    "print (wikipedia.summary(tit))\n",
    "len(wikipedia.summary(tit))"
   ]
  },
  {
   "cell_type": "code",
   "execution_count": null,
   "metadata": {},
   "outputs": [],
   "source": [
    "wikipedia.page(tit).content.replace(\"\\\"\", \"\")"
   ]
  },
  {
   "cell_type": "code",
   "execution_count": null,
   "metadata": {},
   "outputs": [],
   "source": [
    "(wikipedia.page(imago).summary)"
   ]
  },
  {
   "cell_type": "code",
   "execution_count": null,
   "metadata": {},
   "outputs": [],
   "source": [
    "zep = wikipedia.page(imago)"
   ]
  },
  {
   "cell_type": "code",
   "execution_count": null,
   "metadata": {},
   "outputs": [],
   "source": [
    "zep.content.rsplit('\\n\\n\\n== Ndfotes')[0]"
   ]
  },
  {
   "cell_type": "code",
   "execution_count": null,
   "metadata": {},
   "outputs": [],
   "source": [
    "zo = zep.content.replace('\\n\\n\\n== Description ==\\n', ' ')\n",
    "\n",
    "zo = zo.replace(\"\\n\\n\\n== History ==\", ' ')\n",
    "zo = zo.replace(\"\\n\\n\\n== See also ==\\n\", ' ')\n",
    "zo = zo.rsplit('\\n\\n\\n== Notes')[0]\n",
    "zo = zo.replace(\"\\\"\", \"\")\n",
    "zo = zo.replace(\"\\n\", \"\")"
   ]
  },
  {
   "cell_type": "code",
   "execution_count": null,
   "metadata": {},
   "outputs": [],
   "source": [
    "zo"
   ]
  },
  {
   "cell_type": "code",
   "execution_count": null,
   "metadata": {},
   "outputs": [],
   "source": [
    "len(zo)"
   ]
  },
  {
   "cell_type": "code",
   "execution_count": null,
   "metadata": {},
   "outputs": [],
   "source": [
    "und = 0\n",
    "bruh = \"\"\n",
    "if len(zo) > 1500:\n",
    "    for i in zo.rsplit('.'):\n",
    "        if und < 1500:\n",
    "            bruh += i\n",
    "            und += len(i)\n",
    "    bruh += '.'"
   ]
  },
  {
   "cell_type": "code",
   "execution_count": null,
   "metadata": {},
   "outputs": [],
   "source": [
    "len(bruh)"
   ]
  },
  {
   "cell_type": "code",
   "execution_count": null,
   "metadata": {},
   "outputs": [],
   "source": [
    "und "
   ]
  },
  {
   "cell_type": "code",
   "execution_count": null,
   "metadata": {},
   "outputs": [],
   "source": [
    "bruh"
   ]
  },
  {
   "cell_type": "code",
   "execution_count": null,
   "metadata": {},
   "outputs": [],
   "source": [
    "wdir = '/Users/anthonycelio/Documents/deep_news/!machine/art_set/'"
   ]
  },
  {
   "cell_type": "code",
   "execution_count": null,
   "metadata": {},
   "outputs": [],
   "source": [
    "t = str(uuid.uuid4())[-12:]\n",
    "sha = wdir+t+'/'\n",
    "os.makedirs(sha)\n",
    "os.chdir(sha)\n",
    "\n",
    "for m in tqdm(zep.images):\n",
    "    \n",
    "    urllib.request.urlretrieve(m, sha+m[-14:])"
   ]
  },
  {
   "cell_type": "code",
   "execution_count": null,
   "metadata": {},
   "outputs": [],
   "source": [
    "d = {}\n",
    "for i in os.listdir(sha):\n",
    "    cu = os.stat(i).st_size\n",
    "    d[i] = cu\n",
    "    \n",
    "for x in os.listdir(sha):\n",
    "    if x != max(d.items(), key=operator.itemgetter(1))[0]:\n",
    "        os.remove(x)"
   ]
  },
  {
   "cell_type": "code",
   "execution_count": null,
   "metadata": {},
   "outputs": [],
   "source": [
    "max(d.items(), key=operator.itemgetter(1))[0]"
   ]
  },
  {
   "cell_type": "code",
   "execution_count": null,
   "metadata": {},
   "outputs": [],
   "source": [
    "d.values()"
   ]
  },
  {
   "cell_type": "code",
   "execution_count": null,
   "metadata": {},
   "outputs": [],
   "source": [
    "import time\n",
    "import requests\n",
    "import urllib.request\n",
    "from bs4 import BeautifulSoup\n",
    "from urllib.request import Request, urlopen"
   ]
  },
  {
   "cell_type": "code",
   "execution_count": null,
   "metadata": {},
   "outputs": [],
   "source": [
    "ma = 'https://en.wikipedia.org/wiki/Wikipedia:Featured_pictures/Artwork/Paintings'"
   ]
  },
  {
   "cell_type": "code",
   "execution_count": null,
   "metadata": {},
   "outputs": [],
   "source": [
    "req = Request(ma, headers={'User-Agent': 'Mozilla/5.0'})\n",
    "webpage = urlopen(req).read()\n",
    "soup = BeautifulSoup(webpage, \"html.parser\")"
   ]
  },
  {
   "cell_type": "code",
   "execution_count": null,
   "metadata": {},
   "outputs": [],
   "source": []
  },
  {
   "cell_type": "code",
   "execution_count": null,
   "metadata": {},
   "outputs": [],
   "source": [
    "mydivs = soup.findAll(\"div\", {\"class\": \"gallerytext\"})\n"
   ]
  },
  {
   "cell_type": "code",
   "execution_count": null,
   "metadata": {},
   "outputs": [],
   "source": [
    "imago = str(mydivs[100].findAll('a')[0]).rsplit(' ')[1][12:-1]"
   ]
  },
  {
   "cell_type": "code",
   "execution_count": null,
   "metadata": {},
   "outputs": [],
   "source": []
  },
  {
   "cell_type": "code",
   "execution_count": null,
   "metadata": {},
   "outputs": [],
   "source": [
    "wdf = pd.DataFrame([0])"
   ]
  },
  {
   "cell_type": "code",
   "execution_count": null,
   "metadata": {},
   "outputs": [],
   "source": [
    "wdf[0] = zo"
   ]
  },
  {
   "cell_type": "code",
   "execution_count": null,
   "metadata": {},
   "outputs": [],
   "source": [
    "wdf.loc[1] = 'asdfasdfasdf'"
   ]
  },
  {
   "cell_type": "code",
   "execution_count": null,
   "metadata": {},
   "outputs": [],
   "source": [
    "wdf"
   ]
  },
  {
   "cell_type": "code",
   "execution_count": null,
   "metadata": {},
   "outputs": [],
   "source": [
    "path = wdir+'my_data.feather' \n",
    "feather.write_dataframe(wdf, path)\n",
    "wdf = feather.read_dataframe(path)"
   ]
  },
  {
   "cell_type": "code",
   "execution_count": null,
   "metadata": {},
   "outputs": [],
   "source": []
  },
  {
   "cell_type": "code",
   "execution_count": null,
   "metadata": {},
   "outputs": [],
   "source": []
  },
  {
   "cell_type": "code",
   "execution_count": null,
   "metadata": {},
   "outputs": [],
   "source": []
  },
  {
   "cell_type": "code",
   "execution_count": null,
   "metadata": {},
   "outputs": [],
   "source": []
  },
  {
   "cell_type": "code",
   "execution_count": null,
   "metadata": {},
   "outputs": [],
   "source": []
  },
  {
   "cell_type": "code",
   "execution_count": null,
   "metadata": {},
   "outputs": [],
   "source": [
    "Image.MAX_IMAGE_PIXELS = None"
   ]
  },
  {
   "cell_type": "code",
   "execution_count": null,
   "metadata": {},
   "outputs": [],
   "source": [
    "werdir = '/Users/anthonycelio/Documents/deep_news/!machine/art_set/bdb661269a80/'"
   ]
  },
  {
   "cell_type": "code",
   "execution_count": null,
   "metadata": {},
   "outputs": [],
   "source": [
    "emage = '/Users/anthonycelio/Documents/deep_news/!machine/art_set/bdb661269a80/6dec0ogle_Earth.jpg'"
   ]
  },
  {
   "cell_type": "code",
   "execution_count": null,
   "metadata": {},
   "outputs": [],
   "source": [
    "Image.MAX_IMAGE_PIXELS = None\n",
    "from PIL import Image\n",
    "img = Image.open(emage)"
   ]
  },
  {
   "cell_type": "code",
   "execution_count": null,
   "metadata": {},
   "outputs": [],
   "source": [
    "# W x H\n",
    "new_img = img.resize((int(0.3 * img.width), int(0.3 * img.height)))\n",
    "new_img.save(werdir+\"resized.jpg\", \"JPEG\", optimize=False)"
   ]
  },
  {
   "cell_type": "code",
   "execution_count": null,
   "metadata": {},
   "outputs": [],
   "source": []
  },
  {
   "cell_type": "code",
   "execution_count": null,
   "metadata": {},
   "outputs": [],
   "source": []
  },
  {
   "cell_type": "code",
   "execution_count": null,
   "metadata": {},
   "outputs": [],
   "source": []
  },
  {
   "cell_type": "code",
   "execution_count": null,
   "metadata": {},
   "outputs": [],
   "source": []
  },
  {
   "cell_type": "code",
   "execution_count": null,
   "metadata": {},
   "outputs": [],
   "source": []
  },
  {
   "cell_type": "code",
   "execution_count": null,
   "metadata": {},
   "outputs": [],
   "source": []
  },
  {
   "cell_type": "code",
   "execution_count": null,
   "metadata": {},
   "outputs": [],
   "source": []
  },
  {
   "cell_type": "code",
   "execution_count": null,
   "metadata": {},
   "outputs": [],
   "source": []
  },
  {
   "cell_type": "code",
   "execution_count": null,
   "metadata": {},
   "outputs": [],
   "source": []
  },
  {
   "cell_type": "code",
   "execution_count": null,
   "metadata": {},
   "outputs": [],
   "source": []
  }
 ],
 "metadata": {
  "kernelspec": {
   "display_name": "Python 3",
   "language": "python",
   "name": "python3"
  },
  "language_info": {
   "codemirror_mode": {
    "name": "ipython",
    "version": 3
   },
   "file_extension": ".py",
   "mimetype": "text/x-python",
   "name": "python",
   "nbconvert_exporter": "python",
   "pygments_lexer": "ipython3",
   "version": "3.7.0"
  }
 },
 "nbformat": 4,
 "nbformat_minor": 2
}
