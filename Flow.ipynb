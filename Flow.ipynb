{
 "cells": [
  {
   "cell_type": "code",
   "execution_count": 241,
   "metadata": {},
   "outputs": [],
   "source": [
    "#! usr/bin/env python3\n",
    "from tqdm import tqdm_notebook as tqdm\n",
    "import praw\n",
    "import pandas as pd\n",
    "import datetime as dt\n",
    "from PIL import Image\n",
    "import urllib.request\n",
    "import wikipedia\n",
    "import feather\n",
    "import random\n",
    "import shutil\n",
    "\n",
    "import requests\n",
    "from bs4 import BeautifulSoup\n",
    "from urllib.request import Request, urlopen\n",
    "\n",
    "import re\n",
    "import glob\n",
    "import time\n",
    "\n",
    "import ssl\n",
    "\n",
    "ssl._create_default_https_context = ssl._create_unverified_context\n",
    "\n",
    "import IPython.display as ipd\n",
    "import pyttsx3\n",
    "import os\n",
    "import uuid\n",
    "import operator\n",
    "\n",
    "from shutil import copyfile\n",
    "\n",
    "from pydub import AudioSegment\n",
    "from google.cloud import texttospeech\n",
    "\n",
    "Image.MAX_IMAGE_PIXELS = None"
   ]
  },
  {
   "cell_type": "code",
   "execution_count": 242,
   "metadata": {},
   "outputs": [],
   "source": [
    "os.environ[\"GOOGLE_APPLICATION_CREDENTIALS\"]=\"/Users/anthonycelio/xx/My_Projectectect-ef53cc7c18c4.json\""
   ]
  },
  {
   "cell_type": "code",
   "execution_count": null,
   "metadata": {},
   "outputs": [],
   "source": [
    "reddit = praw.Reddit(client_id='ZWkdQHV89SHfEw', \\\n",
    "                     client_secret='xxxxx', \\\n",
    "                     user_agent='Chester', \\\n",
    "                     username='xxxxxx', \\\n",
    "                     password='xxxxxx')\n",
    "\n",
    "subreddit = reddit.subreddit('Unexpected')\n",
    "#subreddit = reddit.subreddit('cringeanarchy')\n",
    "\n",
    "#top_subreddit = subreddit.hot()\n",
    "top_subreddit = subreddit.top('week')\n",
    "\n",
    "#top_subreddit = subreddit.top(limit=50)\n",
    "#for submission in subreddit.hot(limit=1):\n",
    "#    print(submission.title, submission.id)\n",
    "    \n",
    "topics_dict = { \"title\":[],\n",
    "               \"score\":[],\n",
    "               \"id\":[],\n",
    "               \"url\":[],\n",
    "               \"comms_num\":[],\n",
    "               \"created\": [],\n",
    "               \"body\":[],\n",
    "               \"vid\":[]\n",
    "                  }\n",
    "\n",
    "for submission in top_subreddit:\n",
    "    topics_dict[\"title\"].append(submission.title)\n",
    "    topics_dict[\"score\"].append(submission.score)\n",
    "    topics_dict[\"id\"].append(submission.id)\n",
    "    topics_dict[\"url\"].append(submission.url)\n",
    "    topics_dict[\"comms_num\"].append(submission.num_comments)\n",
    "    topics_dict[\"created\"].append(submission.created)\n",
    "    topics_dict[\"body\"].append(submission.selftext)\n",
    "    topics_dict[\"vid\"].append(submission.media)\n",
    "    \n",
    "topics_data = pd.DataFrame(topics_dict)"
   ]
  },
  {
   "cell_type": "code",
   "execution_count": null,
   "metadata": {},
   "outputs": [],
   "source": [
    "#submission.media['reddit_video']['fallback_url']"
   ]
  },
  {
   "cell_type": "code",
   "execution_count": null,
   "metadata": {},
   "outputs": [],
   "source": [
    "topics_data"
   ]
  },
  {
   "cell_type": "code",
   "execution_count": null,
   "metadata": {},
   "outputs": [],
   "source": [
    "topics_data['comms_num'][5]"
   ]
  },
  {
   "cell_type": "code",
   "execution_count": null,
   "metadata": {},
   "outputs": [],
   "source": [
    "brk = 0\n",
    "use = []\n",
    "for i in range(100):\n",
    "    if topics_data[\"comms_num\"][i] >= 13:\n",
    "        if topics_data[\"vid\"][i] != None:\n",
    "            try:\n",
    "                xex = topics_data[\"vid\"][i][\"reddit_video\"][\"duration\"]\n",
    "                if xex > 4 and xex < 30:\n",
    "                    use.append(i)\n",
    "                    brk += 1\n",
    "            except:\n",
    "                pass\n",
    "    \n",
    "    #if brk >= 5:\n",
    "     #   break"
   ]
  },
  {
   "cell_type": "code",
   "execution_count": null,
   "metadata": {},
   "outputs": [],
   "source": [
    "len(use)"
   ]
  },
  {
   "cell_type": "code",
   "execution_count": null,
   "metadata": {},
   "outputs": [],
   "source": [
    "z99 = 0\n",
    "for z, i in enumerate(topics_data['url']):\n",
    "    if z99 < 10:\n",
    "        if i[-3:] == 'jpg':\n",
    "            urllib.request.urlretrieve(i, i[-10:])\n",
    "            z99 += 1\n",
    "            print(z, i)"
   ]
  },
  {
   "cell_type": "code",
   "execution_count": null,
   "metadata": {},
   "outputs": [],
   "source": [
    "topics_data.loc[0]"
   ]
  },
  {
   "cell_type": "code",
   "execution_count": null,
   "metadata": {},
   "outputs": [],
   "source": [
    "!pwd"
   ]
  },
  {
   "cell_type": "code",
   "execution_count": null,
   "metadata": {},
   "outputs": [],
   "source": [
    "def ret_com(num):\n",
    "    po = topics_data['id'][num]\n",
    "    submission = reddit.submission(id=po)\n",
    "    submission.comments.replace_more(limit=1)\n",
    "    chop = []\n",
    "    \n",
    "    for top_level_comment in submission.comments:\n",
    "        chop.append([top_level_comment.body])\n",
    "        for i in (top_level_comment.replies):\n",
    "            chop.append([i.body])\n",
    "            for x in (i.replies):\n",
    "                chop.append([x.body])\n",
    "                for z in (x.replies):\n",
    "                    chop.append([z.body])\n",
    "                    for cc in (z.replies):\n",
    "                        chop.append([cc.body])\n",
    "                        for wo in (cc.replies):\n",
    "                            chop.append([wo.body])\n",
    "                            for zoo in (wo.replies):\n",
    "                                chop.append([zoo.body])\n",
    "\n",
    "    grab = []\n",
    "    for i in chop:\n",
    "        if len(i[0]) > 10:\n",
    "            if len(i[0]) < 300:\n",
    "                for x in i:\n",
    "                    i = re.sub(r'\\w+:\\/{2}[\\d\\w-]+(\\.[\\d\\w-]+)*(?:(?:\\/[^\\s/]*))*', '', x)\n",
    "                    i = re.sub(r'[^a-zA-Z1-9.,()\\'\"?! ]+', '', i)\n",
    "                    i = i.replace('ITAP', 'I took a picture')\n",
    "\n",
    "                    grab.append(i)    \n",
    "    #[topics_data['title'][num]] + grab\n",
    "    frst = topics_data['title'][num].replace('ITAP of ', '')\n",
    "    grab.insert(0, frst.replace('ITAP ', ''))\n",
    "\n",
    "    return grab[:24]"
   ]
  },
  {
   "cell_type": "code",
   "execution_count": null,
   "metadata": {},
   "outputs": [],
   "source": [
    "cc = ret_com(1)"
   ]
  },
  {
   "cell_type": "code",
   "execution_count": null,
   "metadata": {},
   "outputs": [],
   "source": [
    "cc"
   ]
  },
  {
   "cell_type": "code",
   "execution_count": null,
   "metadata": {},
   "outputs": [],
   "source": [
    "len(cc)"
   ]
  },
  {
   "cell_type": "code",
   "execution_count": null,
   "metadata": {},
   "outputs": [],
   "source": [
    "if cc[-1:][0][-1:] == '?':\n",
    "    cc = cc[:-1]\n",
    "if cc[-1:][0][-2:] == '?':\n",
    "    cc = cc[:-1]"
   ]
  },
  {
   "cell_type": "code",
   "execution_count": null,
   "metadata": {},
   "outputs": [],
   "source": [
    "cc[:-1]"
   ]
  },
  {
   "cell_type": "code",
   "execution_count": null,
   "metadata": {},
   "outputs": [],
   "source": [
    "def TTS_lena(str, wave_name):\n",
    "    client = texttospeech.TextToSpeechClient()\n",
    "    synthesis_input = texttospeech.types.SynthesisInput(text=str)\n",
    "\n",
    "    voice = texttospeech.types.VoiceSelectionParams(\n",
    "        language_code='en-AU',\n",
    "        name='en-AU-Wavenet-A',\n",
    "        ssml_gender=texttospeech.enums.SsmlVoiceGender.FEMALE)\n",
    "\n",
    "    audio_config = texttospeech.types.AudioConfig(\n",
    "        speaking_rate=0.91,\n",
    "        pitch=0,\n",
    "        audio_encoding=texttospeech.enums.AudioEncoding.MP3)\n",
    "    response = client.synthesize_speech(synthesis_input, voice, audio_config)\n",
    "    with open('output.mp3', 'wb') as out:\n",
    "        out.write(response.audio_content)\n",
    "    newAudio = AudioSegment.from_mp3('output.mp3')\n",
    "    newAudio.export(wave_name + '.wav', format=\"wav\")\n",
    "    os.remove('output.mp3')"
   ]
  },
  {
   "cell_type": "code",
   "execution_count": 243,
   "metadata": {},
   "outputs": [],
   "source": [
    "def TTS_stac(str, wave_name):\n",
    "    client = texttospeech.TextToSpeechClient()\n",
    "    synthesis_input = texttospeech.types.SynthesisInput(text=str)\n",
    "\n",
    "    voice = texttospeech.types.VoiceSelectionParams(\n",
    "        language_code='en-US',\n",
    "        name='en-US-Wavenet-F',\n",
    "        ssml_gender=texttospeech.enums.SsmlVoiceGender.FEMALE)\n",
    "\n",
    "    audio_config = texttospeech.types.AudioConfig(\n",
    "        speaking_rate=0.89,\n",
    "        pitch=-1,\n",
    "        audio_encoding=texttospeech.enums.AudioEncoding.MP3)\n",
    "    response = client.synthesize_speech(synthesis_input, voice, audio_config)\n",
    "    with open('output.mp3', 'wb') as out:\n",
    "        out.write(response.audio_content)\n",
    "    newAudio = AudioSegment.from_mp3('output.mp3')\n",
    "    newAudio.export(wave_name + '.wav', format=\"wav\")\n",
    "    os.remove('output.mp3')"
   ]
  },
  {
   "cell_type": "code",
   "execution_count": null,
   "metadata": {},
   "outputs": [],
   "source": [
    "def wav_2_phone(wav_file):\n",
    "    new = AudioSegment.from_wav(wav_file)\n",
    "    new = new.apply_gain(12).low_pass_filter(30000).high_pass_filter(30000)\n",
    "    new = new + 15\n",
    "    new.export(wav_file, format=\"wav\")"
   ]
  },
  {
   "cell_type": "code",
   "execution_count": null,
   "metadata": {},
   "outputs": [],
   "source": [
    "wdir = '/Users/anthonycelio/Documents/deep_news/!machine/corespondants/16/'\n",
    "if not os.path.exists(wdir): os.makedirs(wdir)"
   ]
  },
  {
   "cell_type": "code",
   "execution_count": null,
   "metadata": {},
   "outputs": [],
   "source": [
    "os.chdir('/Users/anthonycelio/Documents/deep_news/correspondants/lena/general_bumpers/')"
   ]
  },
  {
   "cell_type": "code",
   "execution_count": null,
   "metadata": {},
   "outputs": [],
   "source": [
    "TTS_stac('''Thank you for joining us Lena. We'll talk to you again soon.''', 'St_out')"
   ]
  },
  {
   "cell_type": "code",
   "execution_count": null,
   "metadata": {},
   "outputs": [],
   "source": []
  },
  {
   "cell_type": "code",
   "execution_count": null,
   "metadata": {},
   "outputs": [],
   "source": []
  },
  {
   "cell_type": "code",
   "execution_count": null,
   "metadata": {},
   "outputs": [],
   "source": [
    "(use[10:14])"
   ]
  },
  {
   "cell_type": "code",
   "execution_count": null,
   "metadata": {},
   "outputs": [],
   "source": [
    "for m in tqdm(range(len(use[10:15]))):\n",
    "    t = str(int(time.time()))\n",
    "    sha = wdir+t+'/'\n",
    "    os.makedirs(sha)\n",
    "    os.chdir(sha)\n",
    "\n",
    "    cc = ret_com(use[10:15][m])[:20]\n",
    "    if cc[-1:][0][-1:] == '?':\n",
    "        cc = cc[:-1]\n",
    "    if cc[-1:][0][-2:] == '?':\n",
    "        cc = cc[:-1]\n",
    "    mp4s = topics_data[\"vid\"][use[10:15][m]][\"reddit_video\"][\"fallback_url\"]\n",
    "    urllib.request.urlretrieve(mp4s, mp4s[-14:]+'.mp4')\n",
    "    for z, i in enumerate(tqdm(cc)):\n",
    "        if z % 2 == 0:\n",
    "            TTS_lena(i, (str(z)).zfill(2))\n",
    "            wav_2_phone((str(z)).zfill(2)+'.wav')\n",
    "        else:\n",
    "            TTS_stac(i, (str(z)).zfill(2))"
   ]
  },
  {
   "cell_type": "code",
   "execution_count": null,
   "metadata": {},
   "outputs": [],
   "source": [
    "su = '''The Parasol (also known as El Quitasol) is one of a cartoon series of oil on linen paintings made by the painter Francisco Goya. This series of paintings was specifically made in order to be transformed into tapestries that would be hung on the walls of the Royal Palace of El Pardo in Madrid, Spain. The tapestries showed serene events in everyday life, which made them a nice addition to the dining room of Prince and Princess of Asturias—the future King Charles IV and Maria Luisa of Parma. The queen called on Goya because she wanted to decorate the dining room with cheerful scenes; The Parasol and the other tapestry paintings were Goya's response to this request. The painting is currently located in the Museo del Prado in Madrid as is another in the series, Blind man's bluff. '''"
   ]
  },
  {
   "cell_type": "code",
   "execution_count": null,
   "metadata": {},
   "outputs": [],
   "source": [
    "TTS_stac(su, '/Users/anthonycelio/Desktop/goya')"
   ]
  },
  {
   "cell_type": "code",
   "execution_count": null,
   "metadata": {},
   "outputs": [],
   "source": []
  },
  {
   "cell_type": "code",
   "execution_count": null,
   "metadata": {},
   "outputs": [],
   "source": [
    "sea = [int(i) for i in os.listdir(wdir) if len(i) is 10]"
   ]
  },
  {
   "cell_type": "code",
   "execution_count": null,
   "metadata": {},
   "outputs": [],
   "source": [
    "sea"
   ]
  },
  {
   "cell_type": "code",
   "execution_count": null,
   "metadata": {},
   "outputs": [],
   "source": [
    "print('''var vs = '''+'\"'+str(wdir)+'\"'+'''\n",
    "var myblocnFolder = new Folder(vs).getFiles()\n",
    "lena = '''+str(sea))"
   ]
  },
  {
   "cell_type": "code",
   "execution_count": null,
   "metadata": {},
   "outputs": [],
   "source": []
  },
  {
   "cell_type": "code",
   "execution_count": null,
   "metadata": {},
   "outputs": [],
   "source": []
  },
  {
   "cell_type": "code",
   "execution_count": null,
   "metadata": {},
   "outputs": [],
   "source": []
  },
  {
   "cell_type": "code",
   "execution_count": null,
   "metadata": {},
   "outputs": [],
   "source": []
  },
  {
   "cell_type": "code",
   "execution_count": null,
   "metadata": {},
   "outputs": [],
   "source": [
    "wav_2_phone((str(z)).zfill(2)+'.wav')"
   ]
  },
  {
   "cell_type": "code",
   "execution_count": null,
   "metadata": {},
   "outputs": [],
   "source": [
    "lena = '/Users/anthonycelio/Documents/deep_news/correspondants/lena/'"
   ]
  },
  {
   "cell_type": "code",
   "execution_count": null,
   "metadata": {},
   "outputs": [],
   "source": []
  },
  {
   "cell_type": "code",
   "execution_count": null,
   "metadata": {},
   "outputs": [],
   "source": []
  },
  {
   "cell_type": "code",
   "execution_count": null,
   "metadata": {},
   "outputs": [],
   "source": [
    "zep = wikipedia.page(imago)"
   ]
  },
  {
   "cell_type": "code",
   "execution_count": null,
   "metadata": {},
   "outputs": [],
   "source": [
    "inter = random.randint(0, 430)"
   ]
  },
  {
   "cell_type": "code",
   "execution_count": null,
   "metadata": {
    "scrolled": false
   },
   "outputs": [],
   "source": [
    "imago = str(mydivs[inter].findAll('a')[0]).rsplit(' ')[1][12:-1]\n",
    "imagog = str(mydivs[inter].findAll('a')[0]).rsplit(' ')[0][12:-1]\n",
    "if len(imago) < len(imagog):\n",
    "    imago = imagog\n",
    "blerb(wikipedia.page(imago))"
   ]
  },
  {
   "cell_type": "code",
   "execution_count": null,
   "metadata": {},
   "outputs": [],
   "source": [
    "zzz = wikipedia.page(imago).content"
   ]
  },
  {
   "cell_type": "code",
   "execution_count": null,
   "metadata": {},
   "outputs": [],
   "source": []
  },
  {
   "cell_type": "code",
   "execution_count": null,
   "metadata": {},
   "outputs": [],
   "source": []
  },
  {
   "cell_type": "code",
   "execution_count": null,
   "metadata": {},
   "outputs": [],
   "source": [
    "len(os.listdir(wdir))"
   ]
  },
  {
   "cell_type": "code",
   "execution_count": null,
   "metadata": {},
   "outputs": [],
   "source": [
    "murm = os.listdir(wdir)[random.randint(0, 334)]"
   ]
  },
  {
   "cell_type": "code",
   "execution_count": null,
   "metadata": {},
   "outputs": [],
   "source": [
    "wdir = '/Users/anthonycelio/Documents/deep_news/!machine/art_set/Wiki2/'"
   ]
  },
  {
   "cell_type": "code",
   "execution_count": null,
   "metadata": {},
   "outputs": [],
   "source": [
    "buhz = [] \n",
    "for iu in tqdm(os.listdir(wdir)):\n",
    "    try:\n",
    "        zxx = '/Users/anthonycelio/Documents/deep_news/!machine/art_set/'\n",
    "        path = zxx+'Wiki2/'+iu+'/my_data.feather'\n",
    "        wdf = feather.read_dataframe(path)\n",
    "        zep = wikipedia.page(wdf.loc[0][0])\n",
    "        wdf.at(0)[4] = blerb(zep) \n",
    "        feather.write_dataframe(wdf, path)\n",
    "    except:\n",
    "        buhz.append(iu)\n",
    "        pass"
   ]
  },
  {
   "cell_type": "code",
   "execution_count": null,
   "metadata": {
    "scrolled": true
   },
   "outputs": [],
   "source": [
    "wdf"
   ]
  },
  {
   "cell_type": "code",
   "execution_count": null,
   "metadata": {},
   "outputs": [],
   "source": [
    "wdf.loc[5][0]"
   ]
  },
  {
   "cell_type": "code",
   "execution_count": null,
   "metadata": {},
   "outputs": [],
   "source": [
    "wdf"
   ]
  },
  {
   "cell_type": "code",
   "execution_count": null,
   "metadata": {},
   "outputs": [],
   "source": [
    "wdf.at(0)[2] = blerb(zep)"
   ]
  },
  {
   "cell_type": "code",
   "execution_count": null,
   "metadata": {
    "scrolled": true
   },
   "outputs": [],
   "source": [
    "wdf.loc[0][2][0]"
   ]
  },
  {
   "cell_type": "code",
   "execution_count": null,
   "metadata": {},
   "outputs": [],
   "source": [
    "[i for i in (zep.content.split(\"==\")[0], zep.content.split(\"==\")[2])]"
   ]
  },
  {
   "cell_type": "code",
   "execution_count": null,
   "metadata": {},
   "outputs": [],
   "source": []
  },
  {
   "cell_type": "code",
   "execution_count": null,
   "metadata": {},
   "outputs": [],
   "source": []
  },
  {
   "cell_type": "code",
   "execution_count": null,
   "metadata": {},
   "outputs": [],
   "source": []
  },
  {
   "cell_type": "code",
   "execution_count": null,
   "metadata": {},
   "outputs": [],
   "source": [
    "muh = 'https://en.wikipedia.org/wiki/Wikipedia:Featured_pictures/Artwork/Paintings'"
   ]
  },
  {
   "cell_type": "code",
   "execution_count": null,
   "metadata": {},
   "outputs": [],
   "source": [
    "req = Request(muh, headers={'User-Agent': 'Mozilla/5.0'})\n",
    "webpage = urlopen(req).read()\n",
    "soup = BeautifulSoup(webpage, \"html.parser\")"
   ]
  },
  {
   "cell_type": "code",
   "execution_count": null,
   "metadata": {},
   "outputs": [],
   "source": [
    "mydivs = soup.findAll(\"div\", {\"class\": \"mw-parser-output\"})"
   ]
  },
  {
   "cell_type": "code",
   "execution_count": null,
   "metadata": {},
   "outputs": [],
   "source": [
    "mydivs[0].find('p').text"
   ]
  },
  {
   "cell_type": "code",
   "execution_count": null,
   "metadata": {},
   "outputs": [],
   "source": []
  },
  {
   "cell_type": "code",
   "execution_count": null,
   "metadata": {},
   "outputs": [],
   "source": []
  },
  {
   "cell_type": "code",
   "execution_count": null,
   "metadata": {
    "scrolled": true
   },
   "outputs": [],
   "source": [
    "def blerb(intext):\n",
    "    zo = intext.content\n",
    "    zo = re.sub(r'==.+==', '', zo)\n",
    "    zo = re.sub(r'(?<!\\d)\\d{4}(?!\\d)', '', zo)\n",
    "\n",
    "    zo = zo.replace(\"....\", \". \")\n",
    "    zo = zo.replace(\"\\\"\", \". \")\n",
    "    zo = zo.replace(\"\\n\", \". \")\n",
    "\n",
    "    zo = zo.replace(\".......\", \".\")\n",
    "    zo = zo.replace(\"......\", \".\")\n",
    "    zo = zo.replace(\".....\", \".\")\n",
    "    zo = zo.replace(\"....\", \".\")\n",
    "    zo = zo.replace(\"...\", \".\")\n",
    "    zo = zo.replace(\"..\", \".\")\n",
    "\n",
    "    zo = zo.replace(\". . . . . . . \", \". \")\n",
    "    zo = zo.replace(\". . . . . . \", \". \")\n",
    "    zo = zo.replace(\". . . . . \", \". \")\n",
    "    zo = zo.replace(\". . . . \", \". \")\n",
    "    zo = zo.replace(\". . . \", \". \")\n",
    "    zo = zo.replace(\". . . \", \". \")\n",
    "    zo = zo.replace(\". . \", \". \")\n",
    "    zo = zo.replace(\"..\", \". \")\n",
    "\n",
    "    und = 0\n",
    "    bruh = \"\"\n",
    "    if len(zo) > 400:\n",
    "        for i in zo.rsplit('.'):\n",
    "            if und < 2500:\n",
    "                bruh += i+'. '\n",
    "                und += len(i)\n",
    "        bruh += '.'\n",
    "    zo = bruh.replace(\". . \", \". \")\n",
    "    zo = zo.replace(\".  \", \". \")\n",
    "    zo = zo.replace(\". .\", \".\")\n",
    "    \n",
    "    return zo"
   ]
  },
  {
   "cell_type": "code",
   "execution_count": null,
   "metadata": {},
   "outputs": [],
   "source": [
    "wdir = '/Users/anthonycelio/Documents/deep_news/!machine/art_set/Wiki2/'"
   ]
  },
  {
   "cell_type": "code",
   "execution_count": null,
   "metadata": {},
   "outputs": [],
   "source": [
    "missed2 = []\n",
    "for ii in tqdm(range(494)):\n",
    "    try:\n",
    "        imago = str(mydivs[ii].findAll('a')[0]).rsplit(' ')[1][12:-1]\n",
    "        imagog = str(mydivs[ii].findAll('a')[0]).rsplit(' ')[0][12:-1]\n",
    "        if len(imago) < len(imagog):\n",
    "            imago = imagog\n",
    "\n",
    "        zep = wikipedia.page(imago)\n",
    "        x3x = blerb(zep)\n",
    "        if len(x3x) > 400: \n",
    "            wdf = pd.DataFrame([imago, x3x])\n",
    "\n",
    "            t = str(uuid.uuid4())[-12:]\n",
    "            sha = wdir+t+'/'\n",
    "            os.makedirs(sha)\n",
    "            os.chdir(sha)\n",
    "\n",
    "            path = sha+'my_data.feather' \n",
    "            feather.write_dataframe(wdf, path)\n",
    "\n",
    "            for m in zep.images:\n",
    "                urllib.request.urlretrieve(m, sha+str(uuid.uuid4())[-5:]+m[-14:])\n",
    "            d = {}\n",
    "            for i in os.listdir(sha):\n",
    "                cu = os.stat(i).st_size\n",
    "                d[i] = cu\n",
    "            for x in os.listdir(sha):\n",
    "                if x != max(d.items(), key=operator.itemgetter(1))[0]:\n",
    "                    if x[-4:] != 'ther':\n",
    "                        os.remove(x)\n",
    "\n",
    "            emage = max(d.items(), key=operator.itemgetter(1))[0]\n",
    "            img = Image.open(emage)\n",
    "            sz = os.stat(emage).st_size\n",
    "            if sz > 9e+7:\n",
    "                new_img = img.resize((int((9e+7/sz) * img.width), int((9e+7/sz) * img.height)))\n",
    "                new_img.save(emage, \"JPEG\", optimize=False)\n",
    "\n",
    "    except:\n",
    "        missed2.append(imago)\n",
    "        pass"
   ]
  },
  {
   "cell_type": "code",
   "execution_count": null,
   "metadata": {},
   "outputs": [],
   "source": [
    "wdf = feather.read_dataframe('/Users/anthonycelio/Documents/deep_news/!machine/art_set/Wiki2/acacf1ab7352/my_data.feather')"
   ]
  },
  {
   "cell_type": "code",
   "execution_count": null,
   "metadata": {},
   "outputs": [],
   "source": [
    "wdf.loc[1][0]"
   ]
  },
  {
   "cell_type": "code",
   "execution_count": null,
   "metadata": {},
   "outputs": [],
   "source": []
  },
  {
   "cell_type": "code",
   "execution_count": null,
   "metadata": {},
   "outputs": [],
   "source": []
  },
  {
   "cell_type": "code",
   "execution_count": null,
   "metadata": {},
   "outputs": [],
   "source": [
    "path = '/Users/anthonycelio/Documents/deep_news/!machine/art_set/Wiki2/d5e3ede6c7f0/my_data.feather'"
   ]
  },
  {
   "cell_type": "code",
   "execution_count": null,
   "metadata": {},
   "outputs": [],
   "source": []
  },
  {
   "cell_type": "code",
   "execution_count": null,
   "metadata": {},
   "outputs": [],
   "source": [
    "wdf = feather.read_dataframe(path)\n",
    "\n",
    "zep = wikipedia.page(wdf.loc[0][0])\n",
    "\n",
    "#wdf.loc[2][0] = "
   ]
  },
  {
   "cell_type": "code",
   "execution_count": null,
   "metadata": {},
   "outputs": [],
   "source": [
    "wdf"
   ]
  },
  {
   "cell_type": "code",
   "execution_count": null,
   "metadata": {},
   "outputs": [],
   "source": [
    "wdf.loc[1][0]"
   ]
  },
  {
   "cell_type": "code",
   "execution_count": null,
   "metadata": {},
   "outputs": [],
   "source": [
    "zep.content"
   ]
  },
  {
   "cell_type": "code",
   "execution_count": null,
   "metadata": {},
   "outputs": [],
   "source": [
    "[i for i in (zep.content.split(\"==\")[0], zep.content.split(\"==\")[2])]"
   ]
  },
  {
   "cell_type": "code",
   "execution_count": null,
   "metadata": {},
   "outputs": [],
   "source": []
  },
  {
   "cell_type": "code",
   "execution_count": null,
   "metadata": {},
   "outputs": [],
   "source": [
    "os.chdir('/Users/anthonycelio/Documents/deep_news/!machine/art_set/Wiki2/d5e3ede6c7f0/')"
   ]
  },
  {
   "cell_type": "code",
   "execution_count": null,
   "metadata": {},
   "outputs": [],
   "source": [
    "wdf = feather.read_dataframe('my_data.feather')"
   ]
  },
  {
   "cell_type": "code",
   "execution_count": null,
   "metadata": {},
   "outputs": [],
   "source": [
    "TTS_stac(wdf.loc[2][0], 'TTS')"
   ]
  },
  {
   "cell_type": "code",
   "execution_count": null,
   "metadata": {},
   "outputs": [],
   "source": []
  },
  {
   "cell_type": "code",
   "execution_count": null,
   "metadata": {},
   "outputs": [],
   "source": [
    "time.sleep(0.5)"
   ]
  },
  {
   "cell_type": "code",
   "execution_count": null,
   "metadata": {
    "scrolled": true
   },
   "outputs": [],
   "source": [
    "len(missed) * 0.5"
   ]
  },
  {
   "cell_type": "code",
   "execution_count": null,
   "metadata": {},
   "outputs": [],
   "source": [
    "sha = '/Users/anthonycelio/Documents/deep_news/!machine/art_set/9ada7545c580/'"
   ]
  },
  {
   "cell_type": "code",
   "execution_count": null,
   "metadata": {},
   "outputs": [],
   "source": [
    "os.chdir(sha)"
   ]
  },
  {
   "cell_type": "code",
   "execution_count": null,
   "metadata": {},
   "outputs": [],
   "source": [
    "d = {}\n",
    "for i in os.listdir(sha):\n",
    "    cu = os.stat(i).st_size\n",
    "    d[i] = cu"
   ]
  },
  {
   "cell_type": "code",
   "execution_count": null,
   "metadata": {},
   "outputs": [],
   "source": [
    "d"
   ]
  },
  {
   "cell_type": "code",
   "execution_count": null,
   "metadata": {},
   "outputs": [],
   "source": [
    "for x in os.listdir(sha):\n",
    "    if x != max(d.items(), key=operator.itemgetter(1))[0]:\n",
    "        os.remove(x)"
   ]
  },
  {
   "cell_type": "code",
   "execution_count": null,
   "metadata": {},
   "outputs": [],
   "source": []
  },
  {
   "cell_type": "code",
   "execution_count": null,
   "metadata": {},
   "outputs": [],
   "source": []
  },
  {
   "cell_type": "code",
   "execution_count": null,
   "metadata": {},
   "outputs": [],
   "source": []
  },
  {
   "cell_type": "code",
   "execution_count": null,
   "metadata": {
    "scrolled": true
   },
   "outputs": [],
   "source": [
    "len(os.listdir(wdir))"
   ]
  },
  {
   "cell_type": "code",
   "execution_count": null,
   "metadata": {},
   "outputs": [],
   "source": [
    "missed"
   ]
  },
  {
   "cell_type": "code",
   "execution_count": null,
   "metadata": {},
   "outputs": [],
   "source": []
  },
  {
   "cell_type": "code",
   "execution_count": null,
   "metadata": {},
   "outputs": [],
   "source": [
    "imago"
   ]
  },
  {
   "cell_type": "code",
   "execution_count": null,
   "metadata": {},
   "outputs": [],
   "source": [
    "imagog"
   ]
  },
  {
   "cell_type": "code",
   "execution_count": null,
   "metadata": {},
   "outputs": [],
   "source": [
    "zep = wikipedia.page(imago)"
   ]
  },
  {
   "cell_type": "code",
   "execution_count": null,
   "metadata": {},
   "outputs": [],
   "source": []
  },
  {
   "cell_type": "code",
   "execution_count": null,
   "metadata": {},
   "outputs": [],
   "source": [
    "len('direct')"
   ]
  },
  {
   "cell_type": "code",
   "execution_count": null,
   "metadata": {},
   "outputs": [],
   "source": []
  },
  {
   "cell_type": "code",
   "execution_count": null,
   "metadata": {},
   "outputs": [],
   "source": [
    "wdf = pd.DataFrame([blerb(zep)])"
   ]
  },
  {
   "cell_type": "code",
   "execution_count": null,
   "metadata": {},
   "outputs": [],
   "source": [
    "wdf"
   ]
  },
  {
   "cell_type": "code",
   "execution_count": null,
   "metadata": {},
   "outputs": [],
   "source": [
    "path = wdir+'my_data.feather' \n",
    "feather.write_dataframe(wdf, path)\n",
    "wdf = feather.read_dataframe(path)"
   ]
  },
  {
   "cell_type": "code",
   "execution_count": null,
   "metadata": {},
   "outputs": [],
   "source": [
    "fea = '/Users/anthonycelio/Documents/deep_news/!machine/art_set/401c8e3bcb98/my_data.feather'"
   ]
  },
  {
   "cell_type": "code",
   "execution_count": null,
   "metadata": {},
   "outputs": [],
   "source": [
    "furv = feather.read_dataframe(fea)"
   ]
  },
  {
   "cell_type": "code",
   "execution_count": null,
   "metadata": {},
   "outputs": [],
   "source": [
    "furv.loc[0][0]"
   ]
  },
  {
   "cell_type": "code",
   "execution_count": null,
   "metadata": {
    "scrolled": true
   },
   "outputs": [],
   "source": [
    "shutil.rmtree"
   ]
  },
  {
   "cell_type": "code",
   "execution_count": null,
   "metadata": {},
   "outputs": [],
   "source": [
    "len(os.listdir(wdir))"
   ]
  },
  {
   "cell_type": "code",
   "execution_count": null,
   "metadata": {},
   "outputs": [],
   "source": [
    "for i in os.listdir(wdir):\n",
    "    try:\n",
    "        bub = wdir+i+'/'\n",
    "        if len(os.listdir(bub)) != 2:\n",
    "            shutil.rmtree(bub)\n",
    "    except:\n",
    "        print('I had to pass')\n",
    "        pass"
   ]
  },
  {
   "cell_type": "code",
   "execution_count": null,
   "metadata": {},
   "outputs": [],
   "source": []
  },
  {
   "cell_type": "code",
   "execution_count": null,
   "metadata": {},
   "outputs": [],
   "source": [
    "emage = '/Users/anthonycelio/Documents/deep_news/NewsFiles/2/nian.jpg'"
   ]
  },
  {
   "cell_type": "code",
   "execution_count": null,
   "metadata": {},
   "outputs": [],
   "source": []
  },
  {
   "cell_type": "code",
   "execution_count": null,
   "metadata": {},
   "outputs": [],
   "source": [
    "# W x H\n",
    "new_img = img.resize((int(0.3 * img.width), int(0.3 * img.height)))\n",
    "new_img.save(werdir+\"resized.jpg\", \"JPEG\", optimize=False)"
   ]
  },
  {
   "cell_type": "code",
   "execution_count": null,
   "metadata": {},
   "outputs": [],
   "source": []
  },
  {
   "cell_type": "code",
   "execution_count": null,
   "metadata": {},
   "outputs": [],
   "source": []
  },
  {
   "cell_type": "code",
   "execution_count": null,
   "metadata": {},
   "outputs": [],
   "source": []
  },
  {
   "cell_type": "code",
   "execution_count": null,
   "metadata": {},
   "outputs": [],
   "source": []
  },
  {
   "cell_type": "code",
   "execution_count": null,
   "metadata": {},
   "outputs": [],
   "source": [
    "len(os.listdir(wdir))"
   ]
  },
  {
   "cell_type": "code",
   "execution_count": 244,
   "metadata": {},
   "outputs": [],
   "source": [
    "wdir = '/Users/anthonycelio/Documents/deep_news/!machine/art_set/Wiki4/'"
   ]
  },
  {
   "cell_type": "code",
   "execution_count": 245,
   "metadata": {},
   "outputs": [],
   "source": [
    "os.chdir(wdir)"
   ]
  },
  {
   "cell_type": "code",
   "execution_count": 246,
   "metadata": {},
   "outputs": [
    {
     "data": {
      "application/vnd.jupyter.widget-view+json": {
       "model_id": "d2eaa078ecdc423ca2d8a5b63641b95b",
       "version_major": 2,
       "version_minor": 0
      },
      "text/plain": [
       "HBox(children=(IntProgress(value=0, max=7), HTML(value='')))"
      ]
     },
     "metadata": {},
     "output_type": "display_data"
    },
    {
     "name": "stdout",
     "output_type": "stream",
     "text": [
      "\n"
     ]
    }
   ],
   "source": [
    "tried = []\n",
    "for i in tqdm(os.listdir(wdir)[1:]):\n",
    "  #  try:\n",
    "    os.chdir(wdir+i)\n",
    "    wdf = feather.read_dataframe(wdir+i+'/my_data.feather')\n",
    "    TTS_stac(wdf.loc[1][0], 'TTS')\n",
    "#     except:\n",
    "#         tried.append(i)\n",
    "#         pass"
   ]
  },
  {
   "cell_type": "code",
   "execution_count": 8,
   "metadata": {},
   "outputs": [
    {
     "data": {
      "text/plain": [
       "[]"
      ]
     },
     "execution_count": 8,
     "metadata": {},
     "output_type": "execute_result"
    }
   ],
   "source": [
    "tried"
   ]
  },
  {
   "cell_type": "code",
   "execution_count": null,
   "metadata": {},
   "outputs": [],
   "source": [
    "TTS_stac()"
   ]
  },
  {
   "cell_type": "code",
   "execution_count": null,
   "metadata": {},
   "outputs": [],
   "source": []
  },
  {
   "cell_type": "code",
   "execution_count": null,
   "metadata": {},
   "outputs": [],
   "source": []
  },
  {
   "cell_type": "code",
   "execution_count": null,
   "metadata": {},
   "outputs": [],
   "source": []
  },
  {
   "cell_type": "code",
   "execution_count": 259,
   "metadata": {},
   "outputs": [],
   "source": [
    "wedir = '/Users/anthonycelio/Documents/deep_news/NewsFiles/!WikiArt/'"
   ]
  },
  {
   "cell_type": "code",
   "execution_count": 260,
   "metadata": {
    "scrolled": true
   },
   "outputs": [],
   "source": [
    "#CREATE NEW FILES BETWEEN 000 AND 999 WITH A DIR NAMED '1' AND '2' IN EACH\n",
    "for i in range(1000):\n",
    "    os.makedirs(wedir+str(i).zfill(3)+'/2/')\n",
    "    os.makedirs(wedir+str(i).zfill(3)+'/1/')"
   ]
  },
  {
   "cell_type": "code",
   "execution_count": null,
   "metadata": {},
   "outputs": [],
   "source": []
  },
  {
   "cell_type": "code",
   "execution_count": null,
   "metadata": {},
   "outputs": [],
   "source": [
    "fromfile = '/Users/anthonycelio/Documents/deep_news/NewsFiles/'"
   ]
  },
  {
   "cell_type": "code",
   "execution_count": null,
   "metadata": {},
   "outputs": [],
   "source": [
    "fromlist = glob.glob(fromfile+'*.jpg')"
   ]
  },
  {
   "cell_type": "code",
   "execution_count": null,
   "metadata": {},
   "outputs": [],
   "source": [
    "#Move random images into poem folders with new name\n",
    "i = 0\n",
    "chum = 14\n",
    "while i < len(fromlist):\n",
    "    os.rename(fromlist[i], wedir+str(chum).zfill(3)+'/2/'+str(i)+'.jpg')\n",
    "    i += 1\n",
    "    os.rename(fromlist[i], wedir+str(chum).zfill(3)+'/1/'+str(i)+'.jpg')\n",
    "    i += 1\n",
    "    chum += 1"
   ]
  },
  {
   "cell_type": "code",
   "execution_count": null,
   "metadata": {},
   "outputs": [],
   "source": []
  },
  {
   "cell_type": "code",
   "execution_count": null,
   "metadata": {},
   "outputs": [],
   "source": []
  },
  {
   "cell_type": "code",
   "execution_count": null,
   "metadata": {},
   "outputs": [],
   "source": [
    "#Copy art tts and jpg into AE ready folders\n",
    "i = 0\n",
    "chum = 14\n",
    "while i < len(fromlist):\n",
    "    shutil.copyfile(fromlist[i], wedir+str(chum).zfill(3)+'/2/'+str(i)+'.jpg')\n",
    "    i += 1\n",
    "    shutil.copyfile(fromlist[i], wedir+str(chum).zfill(3)+'/1/'+str(i)+'.jpg')\n",
    "    i += 1\n",
    "    chum += 1"
   ]
  },
  {
   "cell_type": "code",
   "execution_count": null,
   "metadata": {},
   "outputs": [],
   "source": []
  },
  {
   "cell_type": "code",
   "execution_count": 261,
   "metadata": {},
   "outputs": [],
   "source": [
    "fromlist = '/Users/anthonycelio/Documents/deep_news/!machine/art_set/Wiki4/'"
   ]
  },
  {
   "cell_type": "code",
   "execution_count": 262,
   "metadata": {},
   "outputs": [],
   "source": [
    "dest = '/Users/anthonycelio/Documents/deep_news/NewsFiles/!WikiArt/'"
   ]
  },
  {
   "cell_type": "code",
   "execution_count": 263,
   "metadata": {},
   "outputs": [
    {
     "data": {
      "application/vnd.jupyter.widget-view+json": {
       "model_id": "0b88515a5b7f4ec1a2d019e8015f34b1",
       "version_major": 2,
       "version_minor": 0
      },
      "text/plain": [
       "HBox(children=(IntProgress(value=0, max=396), HTML(value='')))"
      ]
     },
     "metadata": {},
     "output_type": "display_data"
    },
    {
     "name": "stdout",
     "output_type": "stream",
     "text": [
      "\n"
     ]
    }
   ],
   "source": [
    "# PUT ART PHOTO AND WAVE IN 1 AND 2 FILE FOLDERS. BEGIN AT 000\n",
    "f = 1\n",
    "chum = 0\n",
    "for z in tqdm(glob.glob(fromlist+'/*')):\n",
    "    for zc in glob.glob(z+'/*.jpg'):\n",
    "        shutil.copyfile(zc, dest+str(chum).zfill(3)+'/'+str(f)+'/'+zc[-10:])\n",
    "    for zc in glob.glob(z+'/*.wav'):\n",
    "        shutil.copyfile(zc, dest+str(chum).zfill(3)+'/'+str(f)+'/'+zc[-7:])\n",
    "    for zc in glob.glob(z+'/*.feather'):\n",
    "        shutil.copyfile(zc, dest+str(chum).zfill(3)+'/'+str(f)+'/'+zc[-11:])\n",
    "    f += 1\n",
    "    if f == 3:\n",
    "        f = 1\n",
    "        chum += 1"
   ]
  },
  {
   "cell_type": "code",
   "execution_count": 264,
   "metadata": {},
   "outputs": [
    {
     "data": {
      "text/plain": [
       "198.0"
      ]
     },
     "execution_count": 264,
     "metadata": {},
     "output_type": "execute_result"
    }
   ],
   "source": [
    "396*0.5"
   ]
  },
  {
   "cell_type": "code",
   "execution_count": 47,
   "metadata": {},
   "outputs": [
    {
     "data": {
      "text/plain": [
       "'412'"
      ]
     },
     "execution_count": 47,
     "metadata": {},
     "output_type": "execute_result"
    }
   ],
   "source": [
    "'asdfasdfasdfasdf123412'[-3:]"
   ]
  },
  {
   "cell_type": "code",
   "execution_count": null,
   "metadata": {},
   "outputs": [],
   "source": []
  },
  {
   "cell_type": "code",
   "execution_count": null,
   "metadata": {},
   "outputs": [],
   "source": []
  },
  {
   "cell_type": "code",
   "execution_count": null,
   "metadata": {},
   "outputs": [],
   "source": []
  },
  {
   "cell_type": "code",
   "execution_count": 91,
   "metadata": {},
   "outputs": [],
   "source": [
    "wdir = '/Users/anthonycelio/Documents/deep_news/!machine/art_set/Wiki4/'"
   ]
  },
  {
   "cell_type": "code",
   "execution_count": 94,
   "metadata": {},
   "outputs": [
    {
     "data": {
      "text/plain": [
       "'The_Dog_(Goya)'"
      ]
     },
     "execution_count": 94,
     "metadata": {},
     "output_type": "execute_result"
    }
   ],
   "source": [
    "td = os.listdir(wdir)\n",
    "wdf = feather.read_dataframe(wdir+'17bcf7c3ae83'+'/my_data.feather')\n",
    "wdf.loc[0][0]"
   ]
  },
  {
   "cell_type": "code",
   "execution_count": null,
   "metadata": {},
   "outputs": [],
   "source": [
    "wdf.loc[0][0]"
   ]
  },
  {
   "cell_type": "code",
   "execution_count": 80,
   "metadata": {},
   "outputs": [],
   "source": [
    "w3 = '/Users/anthonycelio/Documents/deep_news/!machine/art_set/Wiki3/'\n",
    "w4 = '/Users/anthonycelio/Documents/deep_news/!machine/art_set/Wiki4/'"
   ]
  },
  {
   "cell_type": "code",
   "execution_count": 84,
   "metadata": {},
   "outputs": [],
   "source": [
    "w3g = glob.glob(w3+'/*/')\n",
    "w4g = glob.glob(w4+'/*/')"
   ]
  },
  {
   "cell_type": "code",
   "execution_count": 90,
   "metadata": {},
   "outputs": [
    {
     "data": {
      "application/vnd.jupyter.widget-view+json": {
       "model_id": "6283a51b217e45f8a3a1beb6270a3c0e",
       "version_major": 2,
       "version_minor": 0
      },
      "text/plain": [
       "HBox(children=(IntProgress(value=0, max=388), HTML(value='')))"
      ]
     },
     "metadata": {},
     "output_type": "display_data"
    },
    {
     "name": "stdout",
     "output_type": "stream",
     "text": [
      "\n"
     ]
    }
   ],
   "source": [
    "#CHECK PIECE TITLE AND COPY WAV FROM OTHER FILE OF SAME TITLE\n",
    "for i in tqdm(w3g):\n",
    "    w3df = feather.read_dataframe(i+'/my_data.feather')\n",
    "    for z in w4g:\n",
    "        w4df = feather.read_dataframe(z+'/my_data.feather')\n",
    "        if w3df.loc[0][0] == w4df.loc[0][0]:\n",
    "            shutil.copyfile(i+'TTS.wav', z+'TTS.wav')"
   ]
  },
  {
   "cell_type": "code",
   "execution_count": 89,
   "metadata": {},
   "outputs": [
    {
     "data": {
      "text/plain": [
       "'The_Storm_on_the_Sea_of_Galilee'"
      ]
     },
     "execution_count": 89,
     "metadata": {},
     "output_type": "execute_result"
    }
   ],
   "source": [
    "wdf3.loc[0][0]"
   ]
  },
  {
   "cell_type": "code",
   "execution_count": null,
   "metadata": {},
   "outputs": [],
   "source": []
  },
  {
   "cell_type": "code",
   "execution_count": null,
   "metadata": {},
   "outputs": [],
   "source": []
  },
  {
   "cell_type": "code",
   "execution_count": 96,
   "metadata": {},
   "outputs": [],
   "source": [
    "os.chdir(w4)"
   ]
  },
  {
   "cell_type": "code",
   "execution_count": 214,
   "metadata": {},
   "outputs": [],
   "source": [
    "wwww = '/Users/anthonycelio/Documents/deep_news/!machine/art_set/Wiki4/'"
   ]
  },
  {
   "cell_type": "code",
   "execution_count": 215,
   "metadata": {},
   "outputs": [],
   "source": [
    "w4g = glob.glob(wwww+'*')"
   ]
  },
  {
   "cell_type": "code",
   "execution_count": 185,
   "metadata": {},
   "outputs": [],
   "source": [
    "vov = glob.glob(wwww+'*')"
   ]
  },
  {
   "cell_type": "code",
   "execution_count": 196,
   "metadata": {},
   "outputs": [
    {
     "data": {
      "text/plain": [
       "12"
      ]
     },
     "execution_count": 196,
     "metadata": {},
     "output_type": "execute_result"
    }
   ],
   "source": [
    "len('00e14dfe1d4c')"
   ]
  },
  {
   "cell_type": "code",
   "execution_count": null,
   "metadata": {},
   "outputs": [],
   "source": [
    "w4g"
   ]
  },
  {
   "cell_type": "code",
   "execution_count": 217,
   "metadata": {},
   "outputs": [],
   "source": [
    "#IF A DIR CONTAINS A FILE OF X FORMAT MOVE THE DIR\n",
    "for zxz in w4g:\n",
    "    br = os.listdir(zxz)\n",
    "    for zz in br:\n",
    "        if zz.endswith('wav'):\n",
    "            os.rename(zxz, '/Users/anthonycelio/Documents/deep_news/!machine/art_set/Wiki4_filter/'+zxz[-12:]+'/')\n",
    "            pass"
   ]
  },
  {
   "cell_type": "code",
   "execution_count": null,
   "metadata": {},
   "outputs": [],
   "source": [
    "for i in w4g:\n",
    "    if not os.path.exists(glob.glob(i+'/*.jpg')[0]):\n",
    "        os.remove(i)"
   ]
  },
  {
   "cell_type": "code",
   "execution_count": 231,
   "metadata": {},
   "outputs": [],
   "source": [
    "wwww = '/Users/anthonycelio/Documents/deep_news/!machine/art_set/Wiki4_filter/'\n",
    "w4g = glob.glob(wwww+'*')"
   ]
  },
  {
   "cell_type": "code",
   "execution_count": 230,
   "metadata": {},
   "outputs": [
    {
     "data": {
      "text/plain": [
       "[]"
      ]
     },
     "execution_count": 230,
     "metadata": {},
     "output_type": "execute_result"
    }
   ],
   "source": [
    "w4g"
   ]
  },
  {
   "cell_type": "code",
   "execution_count": 240,
   "metadata": {},
   "outputs": [],
   "source": [
    "for zxz in w4g:\n",
    "    br = os.listdir(zxz)\n",
    "    if len(br) < 2:\n",
    "        print ('why')\n",
    "        print(zxz)"
   ]
  },
  {
   "cell_type": "code",
   "execution_count": 228,
   "metadata": {},
   "outputs": [],
   "source": [
    "if len(br) != 3:\n",
    "    print ('why')"
   ]
  },
  {
   "cell_type": "code",
   "execution_count": null,
   "metadata": {},
   "outputs": [],
   "source": []
  },
  {
   "cell_type": "code",
   "execution_count": null,
   "metadata": {},
   "outputs": [],
   "source": []
  },
  {
   "cell_type": "code",
   "execution_count": null,
   "metadata": {},
   "outputs": [],
   "source": []
  },
  {
   "cell_type": "code",
   "execution_count": null,
   "metadata": {},
   "outputs": [],
   "source": []
  },
  {
   "cell_type": "code",
   "execution_count": null,
   "metadata": {},
   "outputs": [],
   "source": [
    "wdir+str(os.listdir(wdir)[9])"
   ]
  },
  {
   "cell_type": "code",
   "execution_count": null,
   "metadata": {},
   "outputs": [],
   "source": [
    "wdir = '/Users/anthonycelio/Documents/deep_news/!machine/art_set/Wiki3/'"
   ]
  },
  {
   "cell_type": "code",
   "execution_count": null,
   "metadata": {},
   "outputs": [],
   "source": [
    "saw = 0\n",
    "for i in tqdm(os.listdir(wdir)[1:]):\n",
    "    try:\n",
    "        os.chdir(wdir+str(i))\n",
    "        newAudio = AudioSegment.from_mp3('output.mp3')\n",
    "        newAudio.export('TTS.wav', format=\"wav\")\n",
    "        os.remove('output.mp3')\n",
    "    except:\n",
    "        saw += 1\n",
    "        pass"
   ]
  },
  {
   "cell_type": "code",
   "execution_count": null,
   "metadata": {},
   "outputs": [],
   "source": [
    "saw"
   ]
  },
  {
   "cell_type": "code",
   "execution_count": null,
   "metadata": {},
   "outputs": [],
   "source": [
    "wdir"
   ]
  },
  {
   "cell_type": "code",
   "execution_count": null,
   "metadata": {
    "scrolled": true
   },
   "outputs": [],
   "source": [
    "len(os.listdir(wdir))"
   ]
  },
  {
   "cell_type": "code",
   "execution_count": null,
   "metadata": {},
   "outputs": [],
   "source": [
    "'/Users/anthonycelio/Documents/deep_news/!machine/art_set/Wiki3/000d6564edb1/TTS.wav'[-21:-7]"
   ]
  },
  {
   "cell_type": "code",
   "execution_count": 9,
   "metadata": {},
   "outputs": [
    {
     "data": {
      "application/vnd.jupyter.widget-view+json": {
       "model_id": "45510cdac6b14531bdf1a91eb3207e8f",
       "version_major": 2,
       "version_minor": 0
      },
      "text/plain": [
       "HBox(children=(IntProgress(value=0, max=54), HTML(value='')))"
      ]
     },
     "metadata": {},
     "output_type": "display_data"
    },
    {
     "name": "stdout",
     "output_type": "stream",
     "text": [
      "\n"
     ]
    }
   ],
   "source": [
    "saw = 0\n",
    "for i in tqdm(os.listdir(wdir)):\n",
    "    try:\n",
    "        xox = wdir+str(i)+'/TTS.wav'\n",
    "        if os.path.exists(xox):\n",
    "            os.rename(xox[:-7], '/Users/anthonycelio/Documents/deep_news/!machine/art_set/Wiki3_Ready'+xox[-21:-7])\n",
    "    except:\n",
    "        saw += 1\n",
    "        pass"
   ]
  },
  {
   "cell_type": "code",
   "execution_count": 10,
   "metadata": {},
   "outputs": [
    {
     "data": {
      "text/plain": [
       "0"
      ]
     },
     "execution_count": 10,
     "metadata": {},
     "output_type": "execute_result"
    }
   ],
   "source": [
    "saw"
   ]
  },
  {
   "cell_type": "code",
   "execution_count": null,
   "metadata": {},
   "outputs": [],
   "source": []
  },
  {
   "cell_type": "code",
   "execution_count": null,
   "metadata": {},
   "outputs": [],
   "source": []
  },
  {
   "cell_type": "code",
   "execution_count": null,
   "metadata": {},
   "outputs": [],
   "source": []
  },
  {
   "cell_type": "code",
   "execution_count": null,
   "metadata": {},
   "outputs": [],
   "source": []
  },
  {
   "cell_type": "code",
   "execution_count": null,
   "metadata": {},
   "outputs": [],
   "source": []
  },
  {
   "cell_type": "code",
   "execution_count": null,
   "metadata": {},
   "outputs": [],
   "source": []
  },
  {
   "cell_type": "code",
   "execution_count": null,
   "metadata": {},
   "outputs": [],
   "source": []
  },
  {
   "cell_type": "code",
   "execution_count": null,
   "metadata": {},
   "outputs": [],
   "source": []
  },
  {
   "cell_type": "code",
   "execution_count": null,
   "metadata": {},
   "outputs": [],
   "source": []
  },
  {
   "cell_type": "code",
   "execution_count": null,
   "metadata": {},
   "outputs": [],
   "source": []
  }
 ],
 "metadata": {
  "kernelspec": {
   "display_name": "Python 3",
   "language": "python",
   "name": "python3"
  },
  "language_info": {
   "codemirror_mode": {
    "name": "ipython",
    "version": 3
   },
   "file_extension": ".py",
   "mimetype": "text/x-python",
   "name": "python",
   "nbconvert_exporter": "python",
   "pygments_lexer": "ipython3",
   "version": "3.7.0"
  }
 },
 "nbformat": 4,
 "nbformat_minor": 2
}
