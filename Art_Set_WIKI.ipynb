{
 "cells": [
  {
   "cell_type": "code",
   "execution_count": 1,
   "metadata": {},
   "outputs": [],
   "source": [
    "#! usr/bin/env python3\n",
    "from tqdm import tqdm_notebook as tqdm\n",
    "import praw\n",
    "import pandas as pd\n",
    "import datetime as dt\n",
    "from PIL import Image\n",
    "import urllib.request\n",
    "import wikipedia\n",
    "import feather\n",
    "import random\n",
    "import shutil\n",
    "\n",
    "import requests\n",
    "from bs4 import BeautifulSoup\n",
    "from urllib.request import Request, urlopen\n",
    "\n",
    "import re\n",
    "import glob\n",
    "import time\n",
    "\n",
    "import ssl\n",
    "\n",
    "ssl._create_default_https_context = ssl._create_unverified_context\n",
    "\n",
    "import IPython.display as ipd\n",
    "import pyttsx3\n",
    "import os\n",
    "import uuid\n",
    "import operator\n",
    "\n",
    "from shutil import copyfile\n",
    "\n",
    "from pydub import AudioSegment\n",
    "from google.cloud import texttospeech\n",
    "\n",
    "Image.MAX_IMAGE_PIXELS = None"
   ]
  },
  {
   "cell_type": "code",
   "execution_count": 2,
   "metadata": {},
   "outputs": [],
   "source": [
    "os.environ[\"GOOGLE_APPLICATION_CREDENTIALS\"]=\"/Users/anthonycelio/xx/My_Projectectect-ef53cc7c18c4.json\""
   ]
  },
  {
   "cell_type": "code",
   "execution_count": null,
   "metadata": {},
   "outputs": [],
   "source": [
    "reddit = praw.Reddit(client_id='ZWkdQHV89SHfEw', \\\n",
    "                     client_secret='DE9g8daIEcx7SEH3seN41aDKmIs', \\\n",
    "                     user_agent='Chester', \\\n",
    "                     username='user_00000000000001', \\\n",
    "                     password='Russianriver987')\n",
    "\n",
    "subreddit = reddit.subreddit('Unexpected')\n",
    "#subreddit = reddit.subreddit('cringeanarchy')\n",
    "\n",
    "#top_subreddit = subreddit.hot()\n",
    "top_subreddit = subreddit.top('week')\n",
    "\n",
    "#top_subreddit = subreddit.top(limit=50)\n",
    "#for submission in subreddit.hot(limit=1):\n",
    "#    print(submission.title, submission.id)\n",
    "    \n",
    "topics_dict = { \"title\":[],\n",
    "               \"score\":[],\n",
    "               \"id\":[],\n",
    "               \"url\":[],\n",
    "               \"comms_num\":[],\n",
    "               \"created\": [],\n",
    "               \"body\":[],\n",
    "               \"vid\":[]\n",
    "                  }\n",
    "\n",
    "for submission in top_subreddit:\n",
    "    topics_dict[\"title\"].append(submission.title)\n",
    "    topics_dict[\"score\"].append(submission.score)\n",
    "    topics_dict[\"id\"].append(submission.id)\n",
    "    topics_dict[\"url\"].append(submission.url)\n",
    "    topics_dict[\"comms_num\"].append(submission.num_comments)\n",
    "    topics_dict[\"created\"].append(submission.created)\n",
    "    topics_dict[\"body\"].append(submission.selftext)\n",
    "    topics_dict[\"vid\"].append(submission.media)\n",
    "    \n",
    "topics_data = pd.DataFrame(topics_dict)"
   ]
  },
  {
   "cell_type": "code",
   "execution_count": null,
   "metadata": {},
   "outputs": [],
   "source": [
    "#submission.media['reddit_video']['fallback_url']"
   ]
  },
  {
   "cell_type": "code",
   "execution_count": null,
   "metadata": {},
   "outputs": [],
   "source": [
    "topics_data"
   ]
  },
  {
   "cell_type": "code",
   "execution_count": null,
   "metadata": {},
   "outputs": [],
   "source": [
    "topics_data['comms_num'][5]"
   ]
  },
  {
   "cell_type": "code",
   "execution_count": null,
   "metadata": {},
   "outputs": [],
   "source": [
    "brk = 0\n",
    "use = []\n",
    "for i in range(100):\n",
    "    if topics_data[\"comms_num\"][i] >= 13:\n",
    "        if topics_data[\"vid\"][i] != None:\n",
    "            try:\n",
    "                xex = topics_data[\"vid\"][i][\"reddit_video\"][\"duration\"]\n",
    "                if xex > 4 and xex < 30:\n",
    "                    use.append(i)\n",
    "                    brk += 1\n",
    "            except:\n",
    "                pass\n",
    "    \n",
    "    #if brk >= 5:\n",
    "     #   break"
   ]
  },
  {
   "cell_type": "code",
   "execution_count": null,
   "metadata": {},
   "outputs": [],
   "source": [
    "len(use)"
   ]
  },
  {
   "cell_type": "code",
   "execution_count": null,
   "metadata": {},
   "outputs": [],
   "source": [
    "z99 = 0\n",
    "for z, i in enumerate(topics_data['url']):\n",
    "    if z99 < 10:\n",
    "        if i[-3:] == 'jpg':\n",
    "            urllib.request.urlretrieve(i, i[-10:])\n",
    "            z99 += 1\n",
    "            print(z, i)"
   ]
  },
  {
   "cell_type": "code",
   "execution_count": null,
   "metadata": {},
   "outputs": [],
   "source": [
    "topics_data.loc[0]"
   ]
  },
  {
   "cell_type": "code",
   "execution_count": null,
   "metadata": {},
   "outputs": [],
   "source": [
    "!pwd"
   ]
  },
  {
   "cell_type": "code",
   "execution_count": null,
   "metadata": {},
   "outputs": [],
   "source": [
    "def ret_com(num):\n",
    "    po = topics_data['id'][num]\n",
    "    submission = reddit.submission(id=po)\n",
    "    submission.comments.replace_more(limit=1)\n",
    "    chop = []\n",
    "    \n",
    "    for top_level_comment in submission.comments:\n",
    "        chop.append([top_level_comment.body])\n",
    "        for i in (top_level_comment.replies):\n",
    "            chop.append([i.body])\n",
    "            for x in (i.replies):\n",
    "                chop.append([x.body])\n",
    "                for z in (x.replies):\n",
    "                    chop.append([z.body])\n",
    "                    for cc in (z.replies):\n",
    "                        chop.append([cc.body])\n",
    "                        for wo in (cc.replies):\n",
    "                            chop.append([wo.body])\n",
    "                            for zoo in (wo.replies):\n",
    "                                chop.append([zoo.body])\n",
    "\n",
    "    grab = []\n",
    "    for i in chop:\n",
    "        if len(i[0]) > 10:\n",
    "            if len(i[0]) < 300:\n",
    "                for x in i:\n",
    "                    i = re.sub(r'\\w+:\\/{2}[\\d\\w-]+(\\.[\\d\\w-]+)*(?:(?:\\/[^\\s/]*))*', '', x)\n",
    "                    i = re.sub(r'[^a-zA-Z1-9.,()\\'\"?! ]+', '', i)\n",
    "                    i = i.replace('ITAP', 'I took a picture')\n",
    "\n",
    "                    grab.append(i)    \n",
    "    #[topics_data['title'][num]] + grab\n",
    "    frst = topics_data['title'][num].replace('ITAP of ', '')\n",
    "    grab.insert(0, frst.replace('ITAP ', ''))\n",
    "\n",
    "    return grab[:24]"
   ]
  },
  {
   "cell_type": "code",
   "execution_count": null,
   "metadata": {},
   "outputs": [],
   "source": [
    "cc = ret_com(1)"
   ]
  },
  {
   "cell_type": "code",
   "execution_count": null,
   "metadata": {},
   "outputs": [],
   "source": [
    "cc"
   ]
  },
  {
   "cell_type": "code",
   "execution_count": null,
   "metadata": {},
   "outputs": [],
   "source": [
    "len(cc)"
   ]
  },
  {
   "cell_type": "code",
   "execution_count": null,
   "metadata": {},
   "outputs": [],
   "source": [
    "if cc[-1:][0][-1:] == '?':\n",
    "    cc = cc[:-1]\n",
    "if cc[-1:][0][-2:] == '?':\n",
    "    cc = cc[:-1]"
   ]
  },
  {
   "cell_type": "code",
   "execution_count": null,
   "metadata": {},
   "outputs": [],
   "source": [
    "cc[:-1]"
   ]
  },
  {
   "cell_type": "code",
   "execution_count": null,
   "metadata": {},
   "outputs": [],
   "source": [
    "def TTS_lena(str, wave_name):\n",
    "    client = texttospeech.TextToSpeechClient()\n",
    "    synthesis_input = texttospeech.types.SynthesisInput(text=str)\n",
    "\n",
    "    voice = texttospeech.types.VoiceSelectionParams(\n",
    "        language_code='en-AU',\n",
    "        name='en-AU-Wavenet-A',\n",
    "        ssml_gender=texttospeech.enums.SsmlVoiceGender.FEMALE)\n",
    "\n",
    "    audio_config = texttospeech.types.AudioConfig(\n",
    "        speaking_rate=0.91,\n",
    "        pitch=0,\n",
    "        audio_encoding=texttospeech.enums.AudioEncoding.MP3)\n",
    "    response = client.synthesize_speech(synthesis_input, voice, audio_config)\n",
    "    with open('output.mp3', 'wb') as out:\n",
    "        out.write(response.audio_content)\n",
    "    newAudio = AudioSegment.from_mp3('output.mp3')\n",
    "    newAudio.export(wave_name + '.wav', format=\"wav\")\n",
    "    os.remove('output.mp3')"
   ]
  },
  {
   "cell_type": "code",
   "execution_count": 3,
   "metadata": {},
   "outputs": [],
   "source": [
    "def TTS_stac(str, wave_name):\n",
    "    client = texttospeech.TextToSpeechClient()\n",
    "    synthesis_input = texttospeech.types.SynthesisInput(text=str)\n",
    "\n",
    "    voice = texttospeech.types.VoiceSelectionParams(\n",
    "        language_code='en-US',\n",
    "        name='en-US-Wavenet-F',\n",
    "        ssml_gender=texttospeech.enums.SsmlVoiceGender.FEMALE)\n",
    "\n",
    "    audio_config = texttospeech.types.AudioConfig(\n",
    "        speaking_rate=0.89,\n",
    "        pitch=-1,\n",
    "        audio_encoding=texttospeech.enums.AudioEncoding.MP3)\n",
    "    response = client.synthesize_speech(synthesis_input, voice, audio_config)\n",
    "    with open('output.mp3', 'wb') as out:\n",
    "        out.write(response.audio_content)\n",
    "    newAudio = AudioSegment.from_mp3('output.mp3')\n",
    "    newAudio.export(wave_name + '.wav', format=\"wav\")\n",
    "    os.remove('output.mp3')"
   ]
  },
  {
   "cell_type": "code",
   "execution_count": null,
   "metadata": {},
   "outputs": [],
   "source": [
    "def wav_2_phone(wav_file):\n",
    "    new = AudioSegment.from_wav(wav_file)\n",
    "    new = new.apply_gain(12).low_pass_filter(30000).high_pass_filter(30000)\n",
    "    new = new + 15\n",
    "    new.export(wav_file, format=\"wav\")"
   ]
  },
  {
   "cell_type": "code",
   "execution_count": null,
   "metadata": {},
   "outputs": [],
   "source": [
    "wdir = '/Users/anthonycelio/Documents/deep_news/!machine/corespondants/16/'\n",
    "if not os.path.exists(wdir): os.makedirs(wdir)"
   ]
  },
  {
   "cell_type": "code",
   "execution_count": null,
   "metadata": {},
   "outputs": [],
   "source": [
    "os.chdir('/Users/anthonycelio/Documents/deep_news/correspondants/lena/general_bumpers/')"
   ]
  },
  {
   "cell_type": "code",
   "execution_count": null,
   "metadata": {},
   "outputs": [],
   "source": [
    "TTS_stac('''Thank you for joining us Lena. We'll talk to you again soon.''', 'St_out')"
   ]
  },
  {
   "cell_type": "code",
   "execution_count": null,
   "metadata": {},
   "outputs": [],
   "source": []
  },
  {
   "cell_type": "code",
   "execution_count": null,
   "metadata": {},
   "outputs": [],
   "source": []
  },
  {
   "cell_type": "code",
   "execution_count": null,
   "metadata": {},
   "outputs": [],
   "source": [
    "(use[10:14])"
   ]
  },
  {
   "cell_type": "code",
   "execution_count": null,
   "metadata": {},
   "outputs": [],
   "source": [
    "for m in tqdm(range(len(use[10:15]))):\n",
    "    t = str(int(time.time()))\n",
    "    sha = wdir+t+'/'\n",
    "    os.makedirs(sha)\n",
    "    os.chdir(sha)\n",
    "\n",
    "    cc = ret_com(use[10:15][m])[:20]\n",
    "    if cc[-1:][0][-1:] == '?':\n",
    "        cc = cc[:-1]\n",
    "    if cc[-1:][0][-2:] == '?':\n",
    "        cc = cc[:-1]\n",
    "    mp4s = topics_data[\"vid\"][use[10:15][m]][\"reddit_video\"][\"fallback_url\"]\n",
    "    urllib.request.urlretrieve(mp4s, mp4s[-14:]+'.mp4')\n",
    "    for z, i in enumerate(tqdm(cc)):\n",
    "        if z % 2 == 0:\n",
    "            TTS_lena(i, (str(z)).zfill(2))\n",
    "            wav_2_phone((str(z)).zfill(2)+'.wav')\n",
    "        else:\n",
    "            TTS_stac(i, (str(z)).zfill(2))"
   ]
  },
  {
   "cell_type": "code",
   "execution_count": null,
   "metadata": {},
   "outputs": [],
   "source": [
    "su = '''The Parasol (also known as El Quitasol) is one of a cartoon series of oil on linen paintings made by the painter Francisco Goya. This series of paintings was specifically made in order to be transformed into tapestries that would be hung on the walls of the Royal Palace of El Pardo in Madrid, Spain. The tapestries showed serene events in everyday life, which made them a nice addition to the dining room of Prince and Princess of Asturias—the future King Charles IV and Maria Luisa of Parma. The queen called on Goya because she wanted to decorate the dining room with cheerful scenes; The Parasol and the other tapestry paintings were Goya's response to this request. The painting is currently located in the Museo del Prado in Madrid as is another in the series, Blind man's bluff. '''"
   ]
  },
  {
   "cell_type": "code",
   "execution_count": null,
   "metadata": {},
   "outputs": [],
   "source": [
    "TTS_stac(su, '/Users/anthonycelio/Desktop/goya')"
   ]
  },
  {
   "cell_type": "code",
   "execution_count": null,
   "metadata": {},
   "outputs": [],
   "source": []
  },
  {
   "cell_type": "code",
   "execution_count": null,
   "metadata": {},
   "outputs": [],
   "source": [
    "sea = [int(i) for i in os.listdir(wdir) if len(i) is 10]"
   ]
  },
  {
   "cell_type": "code",
   "execution_count": null,
   "metadata": {},
   "outputs": [],
   "source": [
    "sea"
   ]
  },
  {
   "cell_type": "code",
   "execution_count": null,
   "metadata": {},
   "outputs": [],
   "source": [
    "print('''var vs = '''+'\"'+str(wdir)+'\"'+'''\n",
    "var myblocnFolder = new Folder(vs).getFiles()\n",
    "lena = '''+str(sea))"
   ]
  },
  {
   "cell_type": "code",
   "execution_count": null,
   "metadata": {},
   "outputs": [],
   "source": []
  },
  {
   "cell_type": "code",
   "execution_count": null,
   "metadata": {},
   "outputs": [],
   "source": []
  },
  {
   "cell_type": "code",
   "execution_count": null,
   "metadata": {},
   "outputs": [],
   "source": []
  },
  {
   "cell_type": "code",
   "execution_count": null,
   "metadata": {},
   "outputs": [],
   "source": []
  },
  {
   "cell_type": "code",
   "execution_count": null,
   "metadata": {},
   "outputs": [],
   "source": [
    "wav_2_phone((str(z)).zfill(2)+'.wav')"
   ]
  },
  {
   "cell_type": "code",
   "execution_count": null,
   "metadata": {},
   "outputs": [],
   "source": [
    "lena = '/Users/anthonycelio/Documents/deep_news/correspondants/lena/'"
   ]
  },
  {
   "cell_type": "code",
   "execution_count": null,
   "metadata": {},
   "outputs": [],
   "source": []
  },
  {
   "cell_type": "code",
   "execution_count": null,
   "metadata": {},
   "outputs": [],
   "source": []
  },
  {
   "cell_type": "code",
   "execution_count": null,
   "metadata": {},
   "outputs": [],
   "source": [
    "zep = wikipedia.page(imago)"
   ]
  },
  {
   "cell_type": "code",
   "execution_count": null,
   "metadata": {},
   "outputs": [],
   "source": [
    "inter = random.randint(0, 430)"
   ]
  },
  {
   "cell_type": "code",
   "execution_count": null,
   "metadata": {
    "scrolled": false
   },
   "outputs": [],
   "source": [
    "imago = str(mydivs[inter].findAll('a')[0]).rsplit(' ')[1][12:-1]\n",
    "imagog = str(mydivs[inter].findAll('a')[0]).rsplit(' ')[0][12:-1]\n",
    "if len(imago) < len(imagog):\n",
    "    imago = imagog\n",
    "blerb(wikipedia.page(imago))"
   ]
  },
  {
   "cell_type": "code",
   "execution_count": null,
   "metadata": {},
   "outputs": [],
   "source": [
    "zzz = wikipedia.page(imago).content"
   ]
  },
  {
   "cell_type": "code",
   "execution_count": null,
   "metadata": {},
   "outputs": [],
   "source": []
  },
  {
   "cell_type": "code",
   "execution_count": null,
   "metadata": {},
   "outputs": [],
   "source": []
  },
  {
   "cell_type": "code",
   "execution_count": null,
   "metadata": {},
   "outputs": [],
   "source": [
    "len(os.listdir(wdir))"
   ]
  },
  {
   "cell_type": "code",
   "execution_count": null,
   "metadata": {},
   "outputs": [],
   "source": [
    "murm = os.listdir(wdir)[random.randint(0, 334)]"
   ]
  },
  {
   "cell_type": "code",
   "execution_count": null,
   "metadata": {},
   "outputs": [],
   "source": [
    "wdir = '/Users/anthonycelio/Documents/deep_news/!machine/art_set/Wiki2/'"
   ]
  },
  {
   "cell_type": "code",
   "execution_count": null,
   "metadata": {},
   "outputs": [],
   "source": [
    "buhz = [] \n",
    "for iu in tqdm(os.listdir(wdir)):\n",
    "    try:\n",
    "        zxx = '/Users/anthonycelio/Documents/deep_news/!machine/art_set/'\n",
    "        path = zxx+'Wiki2/'+iu+'/my_data.feather'\n",
    "        wdf = feather.read_dataframe(path)\n",
    "        zep = wikipedia.page(wdf.loc[0][0])\n",
    "        wdf.at(0)[5] = blerb(zep) \n",
    "        feather.write_dataframe(wdf, path)\n",
    "    except:\n",
    "        buhz.append(iu)\n",
    "        pass"
   ]
  },
  {
   "cell_type": "code",
   "execution_count": null,
   "metadata": {
    "scrolled": true
   },
   "outputs": [],
   "source": [
    "wdf"
   ]
  },
  {
   "cell_type": "code",
   "execution_count": null,
   "metadata": {},
   "outputs": [],
   "source": [
    "wdf.loc[5][0]"
   ]
  },
  {
   "cell_type": "code",
   "execution_count": null,
   "metadata": {},
   "outputs": [],
   "source": [
    "wdf"
   ]
  },
  {
   "cell_type": "code",
   "execution_count": null,
   "metadata": {},
   "outputs": [],
   "source": [
    "wdf.at(0)[2] = blerb(zep)"
   ]
  },
  {
   "cell_type": "code",
   "execution_count": null,
   "metadata": {
    "scrolled": true
   },
   "outputs": [],
   "source": [
    "wdf.loc[0][2][0]"
   ]
  },
  {
   "cell_type": "code",
   "execution_count": null,
   "metadata": {},
   "outputs": [],
   "source": [
    "[i for i in (zep.content.split(\"==\")[0], zep.content.split(\"==\")[2])]"
   ]
  },
  {
   "cell_type": "code",
   "execution_count": null,
   "metadata": {},
   "outputs": [],
   "source": []
  },
  {
   "cell_type": "code",
   "execution_count": null,
   "metadata": {},
   "outputs": [],
   "source": []
  },
  {
   "cell_type": "code",
   "execution_count": null,
   "metadata": {},
   "outputs": [],
   "source": []
  },
  {
   "cell_type": "code",
   "execution_count": 8,
   "metadata": {},
   "outputs": [],
   "source": [
    "muh = 'https://en.wikipedia.org/wiki/Wikipedia:Featured_pictures/Artwork/Paintings'"
   ]
  },
  {
   "cell_type": "code",
   "execution_count": null,
   "metadata": {},
   "outputs": [],
   "source": [
    "req = Request(muh, headers={'User-Agent': 'Mozilla/5.0'})\n",
    "webpage = urlopen(req).read()\n",
    "soup = BeautifulSoup(webpage, \"html.parser\")"
   ]
  },
  {
   "cell_type": "code",
   "execution_count": null,
   "metadata": {},
   "outputs": [],
   "source": [
    "mydivs = soup.findAll(\"div\", {\"class\": \"gallerytext\"})"
   ]
  },
  {
   "cell_type": "code",
   "execution_count": null,
   "metadata": {},
   "outputs": [],
   "source": [
    "mydivs"
   ]
  },
  {
   "cell_type": "code",
   "execution_count": null,
   "metadata": {},
   "outputs": [],
   "source": [
    "mydivs[225].text"
   ]
  },
  {
   "cell_type": "code",
   "execution_count": null,
   "metadata": {},
   "outputs": [],
   "source": []
  },
  {
   "cell_type": "code",
   "execution_count": null,
   "metadata": {},
   "outputs": [],
   "source": []
  },
  {
   "cell_type": "code",
   "execution_count": null,
   "metadata": {
    "scrolled": false
   },
   "outputs": [],
   "source": [
    "inter = random.randint(0, 494)\n",
    "mydivs[inter].find('b')"
   ]
  },
  {
   "cell_type": "code",
   "execution_count": null,
   "metadata": {},
   "outputs": [],
   "source": [
    "zu = mydivs[inter].find('b')"
   ]
  },
  {
   "cell_type": "code",
   "execution_count": null,
   "metadata": {},
   "outputs": [],
   "source": [
    "links_with_text = []\n",
    "for a in zu.find_all('a', href=True): \n",
    "    if a.text: \n",
    "        links_with_text.append(a['href'])"
   ]
  },
  {
   "cell_type": "code",
   "execution_count": null,
   "metadata": {},
   "outputs": [],
   "source": [
    "links_with_text"
   ]
  },
  {
   "cell_type": "code",
   "execution_count": null,
   "metadata": {},
   "outputs": [],
   "source": [
    "imago = links_with_text[0][6:]"
   ]
  },
  {
   "cell_type": "code",
   "execution_count": 19,
   "metadata": {},
   "outputs": [],
   "source": [
    "imago =  'The_Entombment_(Michelangelo)'"
   ]
  },
  {
   "cell_type": "code",
   "execution_count": 20,
   "metadata": {},
   "outputs": [],
   "source": [
    "try:\n",
    "    zep = wikipedia.page(title=imago,\n",
    "        pageid=None, auto_suggest=False, redirect=True, preload=False)\n",
    "except KeyError:\n",
    "    imago = zu.text\n",
    "    zep = wikipedia.page(title=imago,\n",
    "       pageid=None, auto_suggest=False, redirect=True, preload=False)"
   ]
  },
  {
   "cell_type": "code",
   "execution_count": 21,
   "metadata": {},
   "outputs": [
    {
     "data": {
      "text/plain": [
       "\"The Entombment is an unfinished painting of the placing of the body of Jesus in the garden tomb, now generally attributed to the Italian Renaissance master Michelangelo Buonarroti and dated to around 1500 or 1501. It is in the National Gallery in London, which purchased the work in 1868 from Robert Macpherson, a Scottish photographer resident in Rome who, according to various conflicting accounts, had acquired the painting there some 20 years before. \\n\\n\\n== History ==\\nThe chronological position of this work has been the source of some dispute, although it is generally considered an early work. Some authorities believe that it may have been executed by one of Michelangelo's pupils from a drawing by the master or was a direct imitation of his work.According to documents discovered in 1981, Michelangelo had been commissioned to paint a panel for the church of Sant'Agostino in Rome, but in the end gave back the sum received.  It is probable that this work was the Entombment, which remained unfinished upon Michelangelo's return to Florence.\\nThere is an anecdote that Michelangelo received a letter from his father saying that he should abandon whatever he was doing because a great piece of marble had arrived for him, which would become his David sculpture.\\n\\n\\n== Depiction ==\\nThe centre of the panel portrays Christ being carried up a flight of steps to the sepulchre, which was intended to be painted in the blank area at the top right of the work. The bearded older man behind him is probably Joseph of Arimathea, who gave up his tomb for use as Christ's sepulchre.  The long-haired figure on the left is probably Saint John, wearing a long orange-red gown, with one of the Marys (possibly Mary Magdalene) kneeling at his feet.\\nThe identity of the two figures on the right is uncertain. Suggested identities for the elongated inner figure range from Nicodemus to one of the Marys, while the figure on the far right may be Mary Salome. The large unfinished area at the bottom right was intended to be used for the kneeling form of the Virgin Mary.\\nThe floating appearance of some of the figures may be partly explained by the fact that the painting is intended to be viewed from below, and to the fact that it is unfinished. However, the apparent incongruity of the stance of the bearer on the right remains problematical.Many of the unfinished parts of the painting, such as the cloak of the missing Virgin, would have required quantities of the expensive lapis lazuli blue. If this was in short supply, it could be that this would have held up completion of the painting, which may explain why it was unfinished. However, even if this were so, it would not explain why the artist could not have completed the many other parts of the painting that did not require any blue.\\n\\n\\n== See also ==\\nStudy of a Kneeling Nude Girl for The Entombment\\n\\n\\n== Notes ==\\n\\n\\n== External links ==\\nNational Gallery page\""
      ]
     },
     "execution_count": 21,
     "metadata": {},
     "output_type": "execute_result"
    }
   ],
   "source": [
    "zep.content"
   ]
  },
  {
   "cell_type": "code",
   "execution_count": null,
   "metadata": {},
   "outputs": [],
   "source": []
  },
  {
   "cell_type": "code",
   "execution_count": null,
   "metadata": {},
   "outputs": [],
   "source": []
  },
  {
   "cell_type": "code",
   "execution_count": null,
   "metadata": {},
   "outputs": [],
   "source": []
  },
  {
   "cell_type": "code",
   "execution_count": null,
   "metadata": {},
   "outputs": [],
   "source": []
  },
  {
   "cell_type": "code",
   "execution_count": null,
   "metadata": {},
   "outputs": [],
   "source": []
  },
  {
   "cell_type": "code",
   "execution_count": null,
   "metadata": {},
   "outputs": [],
   "source": []
  },
  {
   "cell_type": "code",
   "execution_count": 175,
   "metadata": {},
   "outputs": [],
   "source": [
    "muh = 'https://en.wikipedia.org/wiki/Wikipedia:Featured_pictures/Artwork/Paintings'\n",
    "req = Request(muh, headers={'User-Agent': 'Mozilla/5.0'})\n",
    "webpage = urlopen(req).read()\n",
    "soup = BeautifulSoup(webpage, \"html.parser\")\n",
    "mydivs = soup.findAll(\"div\", {\"class\": \"gallerytext\"})"
   ]
  },
  {
   "cell_type": "code",
   "execution_count": 156,
   "metadata": {},
   "outputs": [],
   "source": []
  },
  {
   "cell_type": "code",
   "execution_count": 176,
   "metadata": {
    "scrolled": true
   },
   "outputs": [],
   "source": [
    "def image_from_col(inter):\n",
    "    moo_divs = soup.findAll(\"div\", {\"class\": \"thumb\"})\n",
    "    zoo = moo_divs[inter]\n",
    "    backin = str(zoo).split(' ')[7][11:-6]\n",
    "    zuzu = 'https://en.wikipedia.org/wiki'+backin\n",
    "\n",
    "    reqo = Request(zuzu, headers={'User-Agent': 'Mozilla/5.0'})\n",
    "    webpagio = urlopen(reqo).read()\n",
    "    elsoupo = BeautifulSoup(webpagio, \"html.parser\")\n",
    "\n",
    "    muhdiv = elsoupo.findAll(\"div\", {\"class\": \"fullMedia\"})\n",
    "    m = 'https:'+str(muhdiv).split(' ')[3][6:-1]\n",
    "    return m"
   ]
  },
  {
   "cell_type": "code",
   "execution_count": 177,
   "metadata": {},
   "outputs": [],
   "source": [
    "def wiklink(inter):\n",
    "    zu = mydivs[inter].find('b')\n",
    "    links_with_text = []\n",
    "    for a in zu.find_all('a', href=True): \n",
    "        if a.text: \n",
    "            links_with_text.append(a['href'])\n",
    "    imago = links_with_text[0][6:]\n",
    "    try:\n",
    "        zep = wikipedia.page(title=imago,\n",
    "            pageid=None, auto_suggest=False, redirect=True, preload=False)\n",
    "    except KeyError:\n",
    "        imago = zu.text\n",
    "        zep = wikipedia.page(title=imago,\n",
    "           pageid=None, auto_suggest=False, redirect=True, preload=False)\n",
    "    return(zep, imago)"
   ]
  },
  {
   "cell_type": "code",
   "execution_count": 181,
   "metadata": {
    "scrolled": true
   },
   "outputs": [],
   "source": [
    "def blerb(intext):\n",
    "    zo = intext.content\n",
    "    zo = re.sub(r'==.+==', '', zo)\n",
    "    zo = re.sub(r'(?<!\\d)\\d{5}(?!\\d)', '', zo)\n",
    "    zo = re.sub(r'(?<!\\d)\\d{6}(?!\\d)', '', zo)\n",
    "    zo = re.sub(r'(?<!\\d)\\d{7}(?!\\d)', '', zo)\n",
    "    zo = re.sub(r'(?<!\\d)\\d{8}(?!\\d)', '', zo)\n",
    "    zo = re.sub(r'(?<!\\d)\\d{9}(?!\\d)', '', zo)\n",
    "    zo = re.sub(r'(?<!\\d)\\d{10}(?!\\d)', '', zo)\n",
    "    zo = re.sub(r'(?<!\\d)\\d{11}(?!\\d)', '', zo)\n",
    "\n",
    "    zo = zo.replace(\"....\", \". \")\n",
    "    zo = zo.replace(\"\\\"\", \". \")\n",
    "    zo = zo.replace(\"\\n\", \". \")\n",
    "\n",
    "    zo = zo.replace(\".......\", \".\")\n",
    "    zo = zo.replace(\"......\", \".\")\n",
    "    zo = zo.replace(\".....\", \".\")\n",
    "    zo = zo.replace(\"....\", \".\")\n",
    "    zo = zo.replace(\"...\", \".\")\n",
    "    zo = zo.replace(\"..\", \".\")\n",
    "\n",
    "    zo = zo.replace(\". . . . . . . \", \". \")\n",
    "    zo = zo.replace(\". . . . . . \", \". \")\n",
    "    zo = zo.replace(\". . . . . \", \". \")\n",
    "    zo = zo.replace(\". . . . \", \". \")\n",
    "    zo = zo.replace(\". . . \", \". \")\n",
    "    zo = zo.replace(\". . . \", \". \")\n",
    "    zo = zo.replace(\". . \", \". \")\n",
    "    zo = zo.replace(\"..\", \". \")\n",
    "\n",
    "    und = 0\n",
    "    bruh = \"\"\n",
    "    if len(zo) > 400:\n",
    "        for i in zo.rsplit('.'):\n",
    "            if und < 1900:\n",
    "                bruh += i+'. '\n",
    "                und += len(i)\n",
    "        bruh += '.'\n",
    "    zo = bruh.replace(\". . \", \". \")\n",
    "    zo = zo.replace(\".  \", \". \")\n",
    "    zo = zo.replace(\". .\", \".\")\n",
    "    \n",
    "    return zo"
   ]
  },
  {
   "cell_type": "code",
   "execution_count": 182,
   "metadata": {},
   "outputs": [],
   "source": [
    "wdir = '/Users/anthonycelio/Documents/deep_news/!machine/art_set/Wiki4/'"
   ]
  },
  {
   "cell_type": "code",
   "execution_count": 183,
   "metadata": {},
   "outputs": [
    {
     "data": {
      "application/vnd.jupyter.widget-view+json": {
       "model_id": "9d902892cef142cd8afd1875ceee5cb2",
       "version_major": 2,
       "version_minor": 0
      },
      "text/plain": [
       "HBox(children=(IntProgress(value=0, max=494), HTML(value='')))"
      ]
     },
     "metadata": {},
     "output_type": "display_data"
    },
    {
     "name": "stderr",
     "output_type": "stream",
     "text": [
      "/Users/anthonycelio/xx/xx/lib/python3.7/site-packages/wikipedia/wikipedia.py:389: UserWarning: No parser was explicitly specified, so I'm using the best available HTML parser for this system (\"html.parser\"). This usually isn't a problem, but if you run this code on another system, or in a different virtual environment, it may use a different parser and behave differently.\n",
      "\n",
      "The code that caused this warning is on line 389 of the file /Users/anthonycelio/xx/xx/lib/python3.7/site-packages/wikipedia/wikipedia.py. To get rid of this warning, pass the additional argument 'features=\"html.parser\"' to the BeautifulSoup constructor.\n",
      "\n",
      "  lis = BeautifulSoup(html).find_all('li')\n"
     ]
    }
   ],
   "source": [
    "missed1 = []\n",
    "for ii in tqdm(range(494)):\n",
    "    try:\n",
    "        zep, imago = wiklink(ii)\n",
    "        x3x = blerb(zep)\n",
    "        if len(x3x) > 400: \n",
    "            wdf = pd.DataFrame([imago, x3x])\n",
    "\n",
    "            t = str(uuid.uuid4())[-12:]\n",
    "            sha = wdir+t+'/'\n",
    "            os.makedirs(sha)\n",
    "            os.chdir(sha)\n",
    "\n",
    "            path = sha+'my_data.feather' \n",
    "            feather.write_dataframe(wdf, path)\n",
    "\n",
    "            m = image_from_col(ii)\n",
    "\n",
    "            urllib.request.urlretrieve(m, sha+str(uuid.uuid4())[-5:]+m[-14:])\n",
    "\n",
    "            d = {}\n",
    "            for i in os.listdir(sha):\n",
    "                cu = os.stat(i).st_size\n",
    "                d[i] = cu\n",
    "            for x in os.listdir(sha):\n",
    "                if x != max(d.items(), key=operator.itemgetter(1))[0]:\n",
    "                    if x[-4:] != 'ther':\n",
    "                        os.remove(x)\n",
    "\n",
    "            emage = max(d.items(), key=operator.itemgetter(1))[0]\n",
    "            img = Image.open(emage)\n",
    "            sz = os.stat(emage).st_size\n",
    "            if sz > 9e+7:\n",
    "                new_img = img.resize((int((9e+7/sz) * img.width), int((9e+7/sz) * img.height)))\n",
    "                new_img.save(emage, \"JPEG\", optimize=False)\n",
    "\n",
    "    except:\n",
    "        missed1.append(imago)\n",
    "        pass"
   ]
  },
  {
   "cell_type": "code",
   "execution_count": 184,
   "metadata": {},
   "outputs": [
    {
     "data": {
      "text/plain": [
       "['Lucca_Madonna',\n",
       " \"The Child's Bath\",\n",
       " 'Equestrian_Portrait_of_Charles_V',\n",
       " 'The Fiancée of Belus',\n",
       " 'The Fiancée of Belus',\n",
       " 'The_Vision_of_the_Blessed_Hermann_Joseph',\n",
       " 'Arii_Matamoe',\n",
       " 'A_Meat_Stall_with_the_Holy_Family_Giving_Alms',\n",
       " 'Bonaparte_Crossing_the_Alps',\n",
       " 'Allegory_of_Prudence',\n",
       " 'The_Courtyard_of_a_House_in_Delft',\n",
       " 'The_Entombment_(Michelangelo)',\n",
       " 'The_Entombment_(Michelangelo)',\n",
       " 'The_Entombment_(Michelangelo)',\n",
       " 'The_Entombment_(Michelangelo)',\n",
       " 'The_Entombment_(Michelangelo)',\n",
       " 'The_Entombment_(Michelangelo)',\n",
       " 'The_Lady_of_Shalott',\n",
       " 'The_Lady_of_Shalott',\n",
       " 'Adoration_of_the_Magi_(Fra_Angelico_and_Filippo_Lippi)',\n",
       " 'When Will You Marry?',\n",
       " 'Perseus_and_Andromeda_(Leighton)',\n",
       " \"Summer Evening on Skagen's Southern Beach\",\n",
       " 'King_Lear',\n",
       " 'King_Lear',\n",
       " 'Religion_saved_by_Spain',\n",
       " 'Garden_at_Sainte-Adresse',\n",
       " 'The_Torment_of_Saint_Anthony_(Michelangelo)',\n",
       " 'A_Man_with_a_Quilted_Sleeve',\n",
       " 'Crucifixion_with_the_Virgin_and_St_John',\n",
       " \"L'Absinthe\",\n",
       " 'The_Harvesters_(painting)',\n",
       " 'Ploughing_in_the_Nivernais',\n",
       " 'The_Umbrellas_(Renoir_painting)',\n",
       " 'The_Horse_Fair',\n",
       " 'Portrait_of_Doge_Leonardo_Loredan',\n",
       " 'Virgin_and_Child_with_Four_Angels_(David)',\n",
       " 'The_Threatened_Swan',\n",
       " 'The_Threatened_Swan',\n",
       " 'The_Threatened_Swan',\n",
       " 'The_Threatened_Swan',\n",
       " 'The_Threatened_Swan',\n",
       " 'The_Threatened_Swan',\n",
       " 'The_Threatened_Swan',\n",
       " 'The_Threatened_Swan',\n",
       " 'Green_Wheat_Field_with_Cypress',\n",
       " 'Green_Wheat_Field_with_Cypress',\n",
       " 'Green_Wheat_Field_with_Cypress',\n",
       " 'Green_Wheat_Field_with_Cypress',\n",
       " 'The_Fall_of_the_Titans',\n",
       " 'Haller_Madonna',\n",
       " 'Portrait_of_Henry_VIII',\n",
       " 'Portrait_of_Henry_VIII',\n",
       " 'The_Temptation_of_St_Anthony_(Bosch_painting)',\n",
       " 'Shrovetide_Revellers',\n",
       " 'Wivenhoe_Park_(painting)',\n",
       " 'Madonna_of_the_Book',\n",
       " 'Dovedale_by_Moonlight',\n",
       " 'Cairn_in_Snow',\n",
       " 'Midsummer_Eve_Bonfire_on_Skagen_Beach',\n",
       " 'Midsummer_Eve_Bonfire_on_Skagen_Beach',\n",
       " 'Midsummer_Eve_Bonfire_on_Skagen_Beach',\n",
       " 'Niagara_Falls,_from_the_American_Side',\n",
       " 'Niagara_Falls,_from_the_American_Side',\n",
       " 'Beauty_Revealed',\n",
       " 'Portrait_of_Simonetta_Vespucci_(Piero_di_Cosimo)',\n",
       " 'Las_Meninas',\n",
       " 'Portrait_of_a_Young_Woman_(Botticelli,_Frankfurt)',\n",
       " 'Almond_Blossoms',\n",
       " 'Woman_with_a_Mirror',\n",
       " 'A_Young_Girl_Reading',\n",
       " 'Hip,_Hip,_Hurrah!',\n",
       " 'Hip,_Hip,_Hurrah!',\n",
       " 'Hip,_Hip,_Hurrah!',\n",
       " 'Anchises',\n",
       " 'Coronation of the Virgin',\n",
       " 'The_Skater',\n",
       " 'Crucifixion_and_Last_Judgement_diptych',\n",
       " 'Les_raboteurs_de_parquet',\n",
       " 'Les_raboteurs_de_parquet',\n",
       " 'American_Gothic',\n",
       " 'The_Dog_(Goya)',\n",
       " 'Mona_Lisa',\n",
       " 'The_Ambassadors_(Holbein)',\n",
       " 'The_Ambassadors_(Holbein)',\n",
       " 'The_Ambassadors_(Holbein)',\n",
       " 'The_Ambassadors_(Holbein)',\n",
       " 'The_Garden_of_Earthly_Delights',\n",
       " 'Cherokee_Trail',\n",
       " 'Cherokee_Trail',\n",
       " 'Cherokee_Trail',\n",
       " 'Meagre_Company',\n",
       " 'Ajanta_Caves',\n",
       " 'Girl_with_a_Pearl_Earring',\n",
       " 'Jerome_Horsey',\n",
       " 'Jews_Praying_in_the_Synagogue_on_Yom_Kippur',\n",
       " 'Hell']"
      ]
     },
     "execution_count": 184,
     "metadata": {},
     "output_type": "execute_result"
    }
   ],
   "source": [
    "missed1"
   ]
  },
  {
   "cell_type": "code",
   "execution_count": null,
   "metadata": {},
   "outputs": [],
   "source": [
    "wdf = feather.read_dataframe(wdir+(os.listdir(wdir)[random.randint(0, 493)+1]+'/my_data.feather'))"
   ]
  },
  {
   "cell_type": "code",
   "execution_count": null,
   "metadata": {},
   "outputs": [],
   "source": [
    "wdf"
   ]
  },
  {
   "cell_type": "code",
   "execution_count": null,
   "metadata": {},
   "outputs": [],
   "source": [
    "wdf.loc[1][0]"
   ]
  },
  {
   "cell_type": "code",
   "execution_count": null,
   "metadata": {},
   "outputs": [],
   "source": []
  },
  {
   "cell_type": "code",
   "execution_count": null,
   "metadata": {},
   "outputs": [],
   "source": []
  },
  {
   "cell_type": "code",
   "execution_count": null,
   "metadata": {},
   "outputs": [],
   "source": [
    "path = '/Users/anthonycelio/Documents/deep_news/!machine/art_set/Wiki2/d5e3ede6c7f0/my_data.feather'"
   ]
  },
  {
   "cell_type": "code",
   "execution_count": null,
   "metadata": {},
   "outputs": [],
   "source": []
  },
  {
   "cell_type": "code",
   "execution_count": null,
   "metadata": {},
   "outputs": [],
   "source": [
    "wdf = feather.read_dataframe(path)\n",
    "\n",
    "zep = wikipedia.page(wdf.loc[0][0])\n",
    "\n",
    "#wdf.loc[2][0] = "
   ]
  },
  {
   "cell_type": "code",
   "execution_count": null,
   "metadata": {},
   "outputs": [],
   "source": [
    "wdf"
   ]
  },
  {
   "cell_type": "code",
   "execution_count": null,
   "metadata": {},
   "outputs": [],
   "source": [
    "wdf.loc[1][0]"
   ]
  },
  {
   "cell_type": "code",
   "execution_count": null,
   "metadata": {},
   "outputs": [],
   "source": [
    "zep.content"
   ]
  },
  {
   "cell_type": "code",
   "execution_count": null,
   "metadata": {},
   "outputs": [],
   "source": [
    "[i for i in (zep.content.split(\"==\")[0], zep.content.split(\"==\")[2])]"
   ]
  },
  {
   "cell_type": "code",
   "execution_count": null,
   "metadata": {},
   "outputs": [],
   "source": []
  },
  {
   "cell_type": "code",
   "execution_count": null,
   "metadata": {},
   "outputs": [],
   "source": [
    "os.chdir('/Users/anthonycelio/Documents/deep_news/!machine/art_set/Wiki2/d5e3ede6c7f0/')"
   ]
  },
  {
   "cell_type": "code",
   "execution_count": null,
   "metadata": {},
   "outputs": [],
   "source": [
    "wdf = feather.read_dataframe('my_data.feather')"
   ]
  },
  {
   "cell_type": "code",
   "execution_count": null,
   "metadata": {},
   "outputs": [],
   "source": [
    "TTS_stac(wdf.loc[2][0], 'TTS')"
   ]
  },
  {
   "cell_type": "code",
   "execution_count": null,
   "metadata": {},
   "outputs": [],
   "source": []
  },
  {
   "cell_type": "code",
   "execution_count": null,
   "metadata": {},
   "outputs": [],
   "source": [
    "time.sleep(0.5)"
   ]
  },
  {
   "cell_type": "code",
   "execution_count": null,
   "metadata": {
    "scrolled": true
   },
   "outputs": [],
   "source": [
    "len(missed) * 0.5"
   ]
  },
  {
   "cell_type": "code",
   "execution_count": null,
   "metadata": {},
   "outputs": [],
   "source": [
    "sha = '/Users/anthonycelio/Documents/deep_news/!machine/art_set/9ada7545c580/'"
   ]
  },
  {
   "cell_type": "code",
   "execution_count": null,
   "metadata": {},
   "outputs": [],
   "source": [
    "os.chdir(sha)"
   ]
  },
  {
   "cell_type": "code",
   "execution_count": null,
   "metadata": {},
   "outputs": [],
   "source": [
    "d = {}\n",
    "for i in os.listdir(sha):\n",
    "    cu = os.stat(i).st_size\n",
    "    d[i] = cu"
   ]
  },
  {
   "cell_type": "code",
   "execution_count": null,
   "metadata": {},
   "outputs": [],
   "source": [
    "d"
   ]
  },
  {
   "cell_type": "code",
   "execution_count": null,
   "metadata": {},
   "outputs": [],
   "source": [
    "for x in os.listdir(sha):\n",
    "    if x != max(d.items(), key=operator.itemgetter(1))[0]:\n",
    "        os.remove(x)"
   ]
  },
  {
   "cell_type": "code",
   "execution_count": null,
   "metadata": {},
   "outputs": [],
   "source": []
  },
  {
   "cell_type": "code",
   "execution_count": null,
   "metadata": {},
   "outputs": [],
   "source": []
  },
  {
   "cell_type": "code",
   "execution_count": null,
   "metadata": {},
   "outputs": [],
   "source": []
  },
  {
   "cell_type": "code",
   "execution_count": null,
   "metadata": {
    "scrolled": true
   },
   "outputs": [],
   "source": [
    "len(os.listdir(wdir))"
   ]
  },
  {
   "cell_type": "code",
   "execution_count": null,
   "metadata": {},
   "outputs": [],
   "source": [
    "missed"
   ]
  },
  {
   "cell_type": "code",
   "execution_count": null,
   "metadata": {},
   "outputs": [],
   "source": []
  },
  {
   "cell_type": "code",
   "execution_count": null,
   "metadata": {},
   "outputs": [],
   "source": [
    "imago"
   ]
  },
  {
   "cell_type": "code",
   "execution_count": null,
   "metadata": {},
   "outputs": [],
   "source": [
    "imagog"
   ]
  },
  {
   "cell_type": "code",
   "execution_count": null,
   "metadata": {},
   "outputs": [],
   "source": [
    "zep = wikipedia.page(imago)"
   ]
  },
  {
   "cell_type": "code",
   "execution_count": null,
   "metadata": {},
   "outputs": [],
   "source": []
  },
  {
   "cell_type": "code",
   "execution_count": null,
   "metadata": {},
   "outputs": [],
   "source": [
    "len('direct')"
   ]
  },
  {
   "cell_type": "code",
   "execution_count": null,
   "metadata": {},
   "outputs": [],
   "source": []
  },
  {
   "cell_type": "code",
   "execution_count": null,
   "metadata": {},
   "outputs": [],
   "source": [
    "wdf = pd.DataFrame([blerb(zep)])"
   ]
  },
  {
   "cell_type": "code",
   "execution_count": null,
   "metadata": {},
   "outputs": [],
   "source": [
    "wdf"
   ]
  },
  {
   "cell_type": "code",
   "execution_count": null,
   "metadata": {},
   "outputs": [],
   "source": [
    "path = wdir+'my_data.feather' \n",
    "feather.write_dataframe(wdf, path)\n",
    "wdf = feather.read_dataframe(path)"
   ]
  },
  {
   "cell_type": "code",
   "execution_count": null,
   "metadata": {},
   "outputs": [],
   "source": [
    "fea = '/Users/anthonycelio/Documents/deep_news/!machine/art_set/401c8e3bcb98/my_data.feather'"
   ]
  },
  {
   "cell_type": "code",
   "execution_count": null,
   "metadata": {},
   "outputs": [],
   "source": [
    "furv = feather.read_dataframe(fea)"
   ]
  },
  {
   "cell_type": "code",
   "execution_count": null,
   "metadata": {},
   "outputs": [],
   "source": [
    "furv.loc[0][0]"
   ]
  },
  {
   "cell_type": "code",
   "execution_count": null,
   "metadata": {
    "scrolled": true
   },
   "outputs": [],
   "source": [
    "shutil.rmtree"
   ]
  },
  {
   "cell_type": "code",
   "execution_count": null,
   "metadata": {},
   "outputs": [],
   "source": [
    "len(os.listdir(wdir))"
   ]
  },
  {
   "cell_type": "code",
   "execution_count": null,
   "metadata": {},
   "outputs": [],
   "source": [
    "for i in os.listdir(wdir):\n",
    "    try:\n",
    "        bub = wdir+i+'/'\n",
    "        if len(os.listdir(bub)) != 2:\n",
    "            shutil.rmtree(bub)\n",
    "    except:\n",
    "        print('I had to pass')\n",
    "        pass"
   ]
  },
  {
   "cell_type": "code",
   "execution_count": null,
   "metadata": {},
   "outputs": [],
   "source": []
  },
  {
   "cell_type": "code",
   "execution_count": null,
   "metadata": {},
   "outputs": [],
   "source": [
    "emage = '/Users/anthonycelio/Documents/deep_news/NewsFiles/2/nian.jpg'"
   ]
  },
  {
   "cell_type": "code",
   "execution_count": null,
   "metadata": {},
   "outputs": [],
   "source": []
  },
  {
   "cell_type": "code",
   "execution_count": null,
   "metadata": {},
   "outputs": [],
   "source": [
    "# W x H\n",
    "new_img = img.resize((int(0.3 * img.width), int(0.3 * img.height)))\n",
    "new_img.save(werdir+\"resized.jpg\", \"JPEG\", optimize=False)"
   ]
  },
  {
   "cell_type": "code",
   "execution_count": null,
   "metadata": {},
   "outputs": [],
   "source": []
  },
  {
   "cell_type": "code",
   "execution_count": null,
   "metadata": {},
   "outputs": [],
   "source": []
  },
  {
   "cell_type": "code",
   "execution_count": null,
   "metadata": {},
   "outputs": [],
   "source": []
  },
  {
   "cell_type": "code",
   "execution_count": null,
   "metadata": {},
   "outputs": [],
   "source": []
  },
  {
   "cell_type": "code",
   "execution_count": null,
   "metadata": {},
   "outputs": [],
   "source": []
  },
  {
   "cell_type": "code",
   "execution_count": null,
   "metadata": {},
   "outputs": [],
   "source": []
  },
  {
   "cell_type": "code",
   "execution_count": null,
   "metadata": {},
   "outputs": [],
   "source": []
  },
  {
   "cell_type": "code",
   "execution_count": null,
   "metadata": {},
   "outputs": [],
   "source": []
  },
  {
   "cell_type": "code",
   "execution_count": null,
   "metadata": {
    "scrolled": true
   },
   "outputs": [],
   "source": [
    "for i in range(1000):\n",
    "    os.makedirs(wedir+str(i).zfill(3)+'/2/')\n",
    "    os.makedirs(wedir+str(i).zfill(3)+'/1/')"
   ]
  },
  {
   "cell_type": "code",
   "execution_count": null,
   "metadata": {},
   "outputs": [],
   "source": []
  },
  {
   "cell_type": "code",
   "execution_count": null,
   "metadata": {},
   "outputs": [],
   "source": [
    "fromfile = '/Users/anthonycelio/Documents/deep_news/NewsFiles/'"
   ]
  },
  {
   "cell_type": "code",
   "execution_count": null,
   "metadata": {},
   "outputs": [],
   "source": [
    "fromlist = glob.glob(fromfile+'*.jpg')"
   ]
  },
  {
   "cell_type": "code",
   "execution_count": null,
   "metadata": {},
   "outputs": [],
   "source": [
    "i = 0\n",
    "chum = 14\n",
    "while i < len(fromlist):\n",
    "    os.rename(fromlist[i], wedir+str(chum).zfill(3)+'/2/'+str(i)+'.jpg')\n",
    "    i += 1\n",
    "    os.rename(fromlist[i], wedir+str(chum).zfill(3)+'/1/'+str(i)+'.jpg')\n",
    "    i += 1\n",
    "    chum += 1"
   ]
  },
  {
   "cell_type": "code",
   "execution_count": null,
   "metadata": {},
   "outputs": [],
   "source": []
  },
  {
   "cell_type": "code",
   "execution_count": null,
   "metadata": {},
   "outputs": [],
   "source": []
  },
  {
   "cell_type": "code",
   "execution_count": null,
   "metadata": {},
   "outputs": [],
   "source": []
  }
 ],
 "metadata": {
  "kernelspec": {
   "display_name": "Python 3",
   "language": "python",
   "name": "python3"
  },
  "language_info": {
   "codemirror_mode": {
    "name": "ipython",
    "version": 3
   },
   "file_extension": ".py",
   "mimetype": "text/x-python",
   "name": "python",
   "nbconvert_exporter": "python",
   "pygments_lexer": "ipython3",
   "version": "3.7.0"
  }
 },
 "nbformat": 4,
 "nbformat_minor": 2
}
