{
 "cells": [
  {
   "cell_type": "code",
   "execution_count": 1,
   "metadata": {},
   "outputs": [],
   "source": [
    "#! usr/bin/env python3\n",
    "from tqdm import tqdm_notebook as tqdm\n",
    "import praw\n",
    "import pandas as pd\n",
    "import datetime as dt\n",
    "from PIL import Image\n",
    "import urllib.request\n",
    "import wikipedia\n",
    "import feather\n",
    "import random\n",
    "import shutil\n",
    "\n",
    "import requests\n",
    "from bs4 import BeautifulSoup\n",
    "from urllib.request import Request, urlopen\n",
    "\n",
    "import re\n",
    "import glob\n",
    "import time\n",
    "\n",
    "import ssl\n",
    "\n",
    "ssl._create_default_https_context = ssl._create_unverified_context\n",
    "\n",
    "import IPython.display as ipd\n",
    "import pyttsx3\n",
    "import os\n",
    "import uuid\n",
    "import operator\n",
    "\n",
    "from shutil import copyfile\n",
    "\n",
    "from pydub import AudioSegment\n",
    "from google.cloud import texttospeech"
   ]
  },
  {
   "cell_type": "code",
   "execution_count": 2,
   "metadata": {},
   "outputs": [],
   "source": [
    "os.environ[\"GOOGLE_APPLICATION_CREDENTIALS\"]=\"/Users/anthonycelio/xx/My_Projectectect-ef53cc7c18c4.json\""
   ]
  },
  {
   "cell_type": "code",
   "execution_count": 3,
   "metadata": {},
   "outputs": [],
   "source": [
    "reddit = praw.Reddit(client_id='ZWkdQHV89SHfEw', \\\n",
    "                     client_secret='DE9g8daIEcx7SEH3seN41aDKmIs', \\\n",
    "                     user_agent='Chester', \\\n",
    "                     username='user_00000000000001', \\\n",
    "                     password='Russianriver987')\n",
    "\n",
    "subreddit = reddit.subreddit('Unexpected')\n",
    "#subreddit = reddit.subreddit('cringeanarchy')\n",
    "\n",
    "#top_subreddit = subreddit.hot()\n",
    "top_subreddit = subreddit.top('week')\n",
    "\n",
    "#top_subreddit = subreddit.top(limit=50)\n",
    "#for submission in subreddit.hot(limit=1):\n",
    "#    print(submission.title, submission.id)\n",
    "    \n",
    "topics_dict = { \"title\":[],\n",
    "               \"score\":[],\n",
    "               \"id\":[],\n",
    "               \"url\":[],\n",
    "               \"comms_num\":[],\n",
    "               \"created\": [],\n",
    "               \"body\":[],\n",
    "               \"vid\":[]\n",
    "                  }\n",
    "\n",
    "for submission in top_subreddit:\n",
    "    topics_dict[\"title\"].append(submission.title)\n",
    "    topics_dict[\"score\"].append(submission.score)\n",
    "    topics_dict[\"id\"].append(submission.id)\n",
    "    topics_dict[\"url\"].append(submission.url)\n",
    "    topics_dict[\"comms_num\"].append(submission.num_comments)\n",
    "    topics_dict[\"created\"].append(submission.created)\n",
    "    topics_dict[\"body\"].append(submission.selftext)\n",
    "    topics_dict[\"vid\"].append(submission.media)\n",
    "    \n",
    "topics_data = pd.DataFrame(topics_dict)"
   ]
  },
  {
   "cell_type": "code",
   "execution_count": null,
   "metadata": {},
   "outputs": [],
   "source": [
    "#submission.media['reddit_video']['fallback_url']"
   ]
  },
  {
   "cell_type": "code",
   "execution_count": null,
   "metadata": {},
   "outputs": [],
   "source": [
    "topics_data"
   ]
  },
  {
   "cell_type": "code",
   "execution_count": null,
   "metadata": {},
   "outputs": [],
   "source": [
    "topics_data['comms_num'][5]"
   ]
  },
  {
   "cell_type": "code",
   "execution_count": null,
   "metadata": {},
   "outputs": [],
   "source": [
    "brk = 0\n",
    "use = []\n",
    "for i in range(100):\n",
    "    if topics_data[\"comms_num\"][i] >= 13:\n",
    "        if topics_data[\"vid\"][i] != None:\n",
    "            try:\n",
    "                xex = topics_data[\"vid\"][i][\"reddit_video\"][\"duration\"]\n",
    "                if xex > 4 and xex < 30:\n",
    "                    use.append(i)\n",
    "                    brk += 1\n",
    "            except:\n",
    "                pass\n",
    "    \n",
    "    #if brk >= 5:\n",
    "     #   break"
   ]
  },
  {
   "cell_type": "code",
   "execution_count": null,
   "metadata": {},
   "outputs": [],
   "source": [
    "len(use)"
   ]
  },
  {
   "cell_type": "code",
   "execution_count": null,
   "metadata": {},
   "outputs": [],
   "source": [
    "z99 = 0\n",
    "for z, i in enumerate(topics_data['url']):\n",
    "    if z99 < 10:\n",
    "        if i[-3:] == 'jpg':\n",
    "            urllib.request.urlretrieve(i, i[-10:])\n",
    "            z99 += 1\n",
    "            print(z, i)"
   ]
  },
  {
   "cell_type": "code",
   "execution_count": null,
   "metadata": {},
   "outputs": [],
   "source": [
    "topics_data.loc[0]"
   ]
  },
  {
   "cell_type": "code",
   "execution_count": null,
   "metadata": {},
   "outputs": [],
   "source": [
    "!pwd"
   ]
  },
  {
   "cell_type": "code",
   "execution_count": null,
   "metadata": {},
   "outputs": [],
   "source": [
    "def ret_com(num):\n",
    "    po = topics_data['id'][num]\n",
    "    submission = reddit.submission(id=po)\n",
    "    submission.comments.replace_more(limit=1)\n",
    "    chop = []\n",
    "    \n",
    "    for top_level_comment in submission.comments:\n",
    "        chop.append([top_level_comment.body])\n",
    "        for i in (top_level_comment.replies):\n",
    "            chop.append([i.body])\n",
    "            for x in (i.replies):\n",
    "                chop.append([x.body])\n",
    "                for z in (x.replies):\n",
    "                    chop.append([z.body])\n",
    "                    for cc in (z.replies):\n",
    "                        chop.append([cc.body])\n",
    "                        for wo in (cc.replies):\n",
    "                            chop.append([wo.body])\n",
    "                            for zoo in (wo.replies):\n",
    "                                chop.append([zoo.body])\n",
    "\n",
    "    grab = []\n",
    "    for i in chop:\n",
    "        if len(i[0]) > 10:\n",
    "            if len(i[0]) < 300:\n",
    "                for x in i:\n",
    "                    i = re.sub(r'\\w+:\\/{2}[\\d\\w-]+(\\.[\\d\\w-]+)*(?:(?:\\/[^\\s/]*))*', '', x)\n",
    "                    i = re.sub(r'[^a-zA-Z1-9.,()\\'\"?! ]+', '', i)\n",
    "                    i = i.replace('ITAP', 'I took a picture')\n",
    "\n",
    "                    grab.append(i)    \n",
    "    #[topics_data['title'][num]] + grab\n",
    "    frst = topics_data['title'][num].replace('ITAP of ', '')\n",
    "    grab.insert(0, frst.replace('ITAP ', ''))\n",
    "\n",
    "    return grab[:24]"
   ]
  },
  {
   "cell_type": "code",
   "execution_count": null,
   "metadata": {},
   "outputs": [],
   "source": [
    "cc = ret_com(1)"
   ]
  },
  {
   "cell_type": "code",
   "execution_count": null,
   "metadata": {},
   "outputs": [],
   "source": [
    "cc"
   ]
  },
  {
   "cell_type": "code",
   "execution_count": null,
   "metadata": {},
   "outputs": [],
   "source": [
    "len(cc)"
   ]
  },
  {
   "cell_type": "code",
   "execution_count": null,
   "metadata": {},
   "outputs": [],
   "source": [
    "if cc[-1:][0][-1:] == '?':\n",
    "    cc = cc[:-1]\n",
    "if cc[-1:][0][-2:] == '?':\n",
    "    cc = cc[:-1]"
   ]
  },
  {
   "cell_type": "code",
   "execution_count": null,
   "metadata": {},
   "outputs": [],
   "source": [
    "cc[:-1]"
   ]
  },
  {
   "cell_type": "code",
   "execution_count": null,
   "metadata": {},
   "outputs": [],
   "source": [
    "def TTS_lena(str, wave_name):\n",
    "    client = texttospeech.TextToSpeechClient()\n",
    "    synthesis_input = texttospeech.types.SynthesisInput(text=str)\n",
    "\n",
    "    voice = texttospeech.types.VoiceSelectionParams(\n",
    "        language_code='en-AU',\n",
    "        name='en-AU-Wavenet-A',\n",
    "        ssml_gender=texttospeech.enums.SsmlVoiceGender.FEMALE)\n",
    "\n",
    "    audio_config = texttospeech.types.AudioConfig(\n",
    "        speaking_rate=0.91,\n",
    "        pitch=0,\n",
    "        audio_encoding=texttospeech.enums.AudioEncoding.MP3)\n",
    "    response = client.synthesize_speech(synthesis_input, voice, audio_config)\n",
    "    with open('output.mp3', 'wb') as out:\n",
    "        out.write(response.audio_content)\n",
    "    newAudio = AudioSegment.from_mp3('output.mp3')\n",
    "    newAudio.export(wave_name + '.wav', format=\"wav\")\n",
    "    os.remove('output.mp3')"
   ]
  },
  {
   "cell_type": "code",
   "execution_count": null,
   "metadata": {},
   "outputs": [],
   "source": [
    "def TTS_stac(str, wave_name):\n",
    "    client = texttospeech.TextToSpeechClient()\n",
    "    synthesis_input = texttospeech.types.SynthesisInput(text=str)\n",
    "\n",
    "    voice = texttospeech.types.VoiceSelectionParams(\n",
    "        language_code='en-US',\n",
    "        name='en-US-Wavenet-F',\n",
    "        ssml_gender=texttospeech.enums.SsmlVoiceGender.FEMALE)\n",
    "\n",
    "    audio_config = texttospeech.types.AudioConfig(\n",
    "        speaking_rate=0.89,\n",
    "        pitch=-1,\n",
    "        audio_encoding=texttospeech.enums.AudioEncoding.MP3)\n",
    "    response = client.synthesize_speech(synthesis_input, voice, audio_config)\n",
    "    with open('output.mp3', 'wb') as out:\n",
    "        out.write(response.audio_content)\n",
    "    newAudio = AudioSegment.from_mp3('output.mp3')\n",
    "    newAudio.export(wave_name + '.wav', format=\"wav\")\n",
    "    os.remove('output.mp3')"
   ]
  },
  {
   "cell_type": "code",
   "execution_count": null,
   "metadata": {},
   "outputs": [],
   "source": [
    "def wav_2_phone(wav_file):\n",
    "    new = AudioSegment.from_wav(wav_file)\n",
    "    new = new.apply_gain(12).low_pass_filter(30000).high_pass_filter(30000)\n",
    "    new = new + 15\n",
    "    new.export(wav_file, format=\"wav\")"
   ]
  },
  {
   "cell_type": "code",
   "execution_count": null,
   "metadata": {},
   "outputs": [],
   "source": [
    "wdir = '/Users/anthonycelio/Documents/deep_news/!machine/corespondants/16/'\n",
    "if not os.path.exists(wdir): os.makedirs(wdir)"
   ]
  },
  {
   "cell_type": "code",
   "execution_count": null,
   "metadata": {},
   "outputs": [],
   "source": [
    "(use[10:14])"
   ]
  },
  {
   "cell_type": "code",
   "execution_count": null,
   "metadata": {},
   "outputs": [],
   "source": [
    "for m in tqdm(range(len(use[10:15]))):\n",
    "    t = str(int(time.time()))\n",
    "    sha = wdir+t+'/'\n",
    "    os.makedirs(sha)\n",
    "    os.chdir(sha)\n",
    "\n",
    "    cc = ret_com(use[10:15][m])[:20]\n",
    "    if cc[-1:][0][-1:] == '?':\n",
    "        cc = cc[:-1]\n",
    "    if cc[-1:][0][-2:] == '?':\n",
    "        cc = cc[:-1]\n",
    "    mp4s = topics_data[\"vid\"][use[10:15][m]][\"reddit_video\"][\"fallback_url\"]\n",
    "    urllib.request.urlretrieve(mp4s, mp4s[-14:]+'.mp4')\n",
    "    for z, i in enumerate(tqdm(cc)):\n",
    "        if z % 2 == 0:\n",
    "            TTS_lena(i, (str(z)).zfill(2))\n",
    "            wav_2_phone((str(z)).zfill(2)+'.wav')\n",
    "        else:\n",
    "            TTS_stac(i, (str(z)).zfill(2))"
   ]
  },
  {
   "cell_type": "code",
   "execution_count": null,
   "metadata": {},
   "outputs": [],
   "source": [
    "su = '''The Parasol (also known as El Quitasol) is one of a cartoon series of oil on linen paintings made by the painter Francisco Goya. This series of paintings was specifically made in order to be transformed into tapestries that would be hung on the walls of the Royal Palace of El Pardo in Madrid, Spain. The tapestries showed serene events in everyday life, which made them a nice addition to the dining room of Prince and Princess of Asturias—the future King Charles IV and Maria Luisa of Parma. The queen called on Goya because she wanted to decorate the dining room with cheerful scenes; The Parasol and the other tapestry paintings were Goya's response to this request. The painting is currently located in the Museo del Prado in Madrid as is another in the series, Blind man's bluff. '''"
   ]
  },
  {
   "cell_type": "code",
   "execution_count": null,
   "metadata": {},
   "outputs": [],
   "source": [
    "TTS_stac(su, '/Users/anthonycelio/Desktop/goya')"
   ]
  },
  {
   "cell_type": "code",
   "execution_count": null,
   "metadata": {},
   "outputs": [],
   "source": []
  },
  {
   "cell_type": "code",
   "execution_count": null,
   "metadata": {},
   "outputs": [],
   "source": [
    "sea = [int(i) for i in os.listdir(wdir) if len(i) is 10]"
   ]
  },
  {
   "cell_type": "code",
   "execution_count": null,
   "metadata": {},
   "outputs": [],
   "source": [
    "sea"
   ]
  },
  {
   "cell_type": "code",
   "execution_count": null,
   "metadata": {},
   "outputs": [],
   "source": [
    "print('''var vs = '''+'\"'+str(wdir)+'\"'+'''\n",
    "var myblocnFolder = new Folder(vs).getFiles()\n",
    "lena = '''+str(sea))"
   ]
  },
  {
   "cell_type": "code",
   "execution_count": null,
   "metadata": {},
   "outputs": [],
   "source": []
  },
  {
   "cell_type": "code",
   "execution_count": null,
   "metadata": {},
   "outputs": [],
   "source": []
  },
  {
   "cell_type": "code",
   "execution_count": null,
   "metadata": {},
   "outputs": [],
   "source": []
  },
  {
   "cell_type": "code",
   "execution_count": null,
   "metadata": {},
   "outputs": [],
   "source": []
  },
  {
   "cell_type": "code",
   "execution_count": null,
   "metadata": {},
   "outputs": [],
   "source": [
    "wav_2_phone((str(z)).zfill(2)+'.wav')"
   ]
  },
  {
   "cell_type": "code",
   "execution_count": null,
   "metadata": {},
   "outputs": [],
   "source": [
    "lena = '/Users/anthonycelio/Documents/deep_news/correspondants/lena/'"
   ]
  },
  {
   "cell_type": "code",
   "execution_count": null,
   "metadata": {},
   "outputs": [],
   "source": [
    "os.chdir(lena)"
   ]
  },
  {
   "cell_type": "code",
   "execution_count": null,
   "metadata": {},
   "outputs": [],
   "source": [
    "TTS_stac('Welcome back. Joining us now on the phone, our correspondant Lena Bronsky. How are you, Lena?', lena+'int_lena1')"
   ]
  },
  {
   "cell_type": "code",
   "execution_count": null,
   "metadata": {},
   "outputs": [],
   "source": [
    "TTS_lena('Fine Stacy, How are you?', lena+'lena_r1')\n",
    "wav_2_phone(lena+'lena_r1'+'.wav')"
   ]
  },
  {
   "cell_type": "code",
   "execution_count": null,
   "metadata": {},
   "outputs": [],
   "source": [
    "TTS_stac('''Great. I understand you have some photos for us. What's your first image?''', lena+'St_go_image')"
   ]
  },
  {
   "cell_type": "code",
   "execution_count": null,
   "metadata": {},
   "outputs": [],
   "source": [
    "TTS_stac('''Okay, What's next, Lena?''', lena+'St_nextQ')"
   ]
  },
  {
   "cell_type": "code",
   "execution_count": null,
   "metadata": {},
   "outputs": [],
   "source": [
    "TTS_stac('''and this concludes our broadcast. Thanks for watching.''', lena+'St_show_end' )"
   ]
  },
  {
   "cell_type": "code",
   "execution_count": null,
   "metadata": {},
   "outputs": [],
   "source": []
  },
  {
   "cell_type": "code",
   "execution_count": null,
   "metadata": {},
   "outputs": [],
   "source": [
    "//*[@id=\"content\"]/article/div[4]/div[1]/p/text()"
   ]
  },
  {
   "cell_type": "code",
   "execution_count": null,
   "metadata": {},
   "outputs": [],
   "source": []
  },
  {
   "cell_type": "code",
   "execution_count": 16,
   "metadata": {},
   "outputs": [
    {
     "name": "stdout",
     "output_type": "stream",
     "text": [
      "Requirement already satisfied: Wikipedia-API in ./xx/lib/python3.7/site-packages (0.4.4)\n",
      "Requirement already satisfied: requests in ./xx/lib/python3.7/site-packages (from Wikipedia-API) (2.21.0)\n",
      "Requirement already satisfied: chardet<3.1.0,>=3.0.2 in ./xx/lib/python3.7/site-packages (from requests->Wikipedia-API) (3.0.4)\n",
      "Requirement already satisfied: urllib3<1.25,>=1.21.1 in ./xx/lib/python3.7/site-packages (from requests->Wikipedia-API) (1.24.1)\n",
      "Requirement already satisfied: idna<2.9,>=2.5 in ./xx/lib/python3.7/site-packages (from requests->Wikipedia-API) (2.8)\n",
      "Requirement already satisfied: certifi>=2017.4.17 in ./xx/lib/python3.7/site-packages (from requests->Wikipedia-API) (2018.11.29)\n",
      "\u001b[33mYou are using pip version 10.0.1, however version 19.0.3 is available.\n",
      "You should consider upgrading via the 'pip install --upgrade pip' command.\u001b[0m\n"
     ]
    }
   ],
   "source": [
    "!pip install Wikipedia-API"
   ]
  },
  {
   "cell_type": "code",
   "execution_count": null,
   "metadata": {},
   "outputs": [],
   "source": [
    "TTS_lena('Thank you for having me, Stacy.', lena+'lena_out')\n",
    "wav_2_phone(lena+'lena_out'+'.wav')"
   ]
  },
  {
   "cell_type": "code",
   "execution_count": null,
   "metadata": {},
   "outputs": [],
   "source": []
  },
  {
   "cell_type": "code",
   "execution_count": null,
   "metadata": {},
   "outputs": [],
   "source": []
  },
  {
   "cell_type": "code",
   "execution_count": null,
   "metadata": {},
   "outputs": [],
   "source": []
  },
  {
   "cell_type": "code",
   "execution_count": null,
   "metadata": {},
   "outputs": [],
   "source": []
  },
  {
   "cell_type": "code",
   "execution_count": null,
   "metadata": {},
   "outputs": [],
   "source": []
  },
  {
   "cell_type": "code",
   "execution_count": null,
   "metadata": {},
   "outputs": [],
   "source": []
  },
  {
   "cell_type": "code",
   "execution_count": 17,
   "metadata": {},
   "outputs": [],
   "source": [
    "import wikipediaapi\n"
   ]
  },
  {
   "cell_type": "code",
   "execution_count": 28,
   "metadata": {},
   "outputs": [],
   "source": [
    "wiki_wiki = wikipediaapi.Wikipedia('en')\n",
    "\n",
    "page = wiki_wiki.page('The_Temptation_of_St_Anthony_(Bosch_painting)')"
   ]
  },
  {
   "cell_type": "code",
   "execution_count": 29,
   "metadata": {},
   "outputs": [
    {
     "data": {
      "text/plain": [
       "The_Temptation_of_St_Anthony_(Bosch_painting) (id: ??, ns: 0)"
      ]
     },
     "execution_count": 29,
     "metadata": {},
     "output_type": "execute_result"
    }
   ],
   "source": [
    "page"
   ]
  },
  {
   "cell_type": "code",
   "execution_count": 31,
   "metadata": {},
   "outputs": [
    {
     "data": {
      "text/plain": [
       "'The Temptation of St. Anthony is a painting of disputed authorship, attributed to either Hieronymus Bosch or a follower. It is now in the Museo del Prado in Madrid.\\n\\nHistory\\nThe work was in the Escorial monastery, although it was not mentioned in inventories; later it was moved to the Prado. It is likely that the work was one of the Temptations sent to the monastery by Philip II of Spain in 1574. This painting has a more serene atmosphere than the triptych with the same theme now in the Museu Nacional de Arte Antiga of Lisbon.Like all Bosch\\'s works, it cannot be dated with precision, although it is likely from his late production (1500–1516).In 2016, the Bosch Research and Conservation project, after five years of researching all known Bosch paintings, announced that they had significant doubts about the attribution of the work to Bosch, instead attributing it to a follower.\\n\\nDescription\\nSt. Anthony the Abbot is portrayed in meditation, in a sunny landscape near the trunk of a dry tree. St. Anthony is a recurrent figure in Bosch\\'s work, with up to 15 paintings of this subject, all inspired by legends told in the Golden Legend and in his Life by Athanasius of Alexandria. He is represented in a setting of solitude and temptation that the saint experienced over twenty years. Although this picture is significantly different from other works by Bosch of St. Anthony, such as the triptych painting of the same name, customary features of the abbot include his dark brown habit with the Greek letter \"tau\" and a pig by his side.In contrast to the earlier paintings with St. Anthony, this version of the temptation of St. Anthony finds the abbot calmer from his meditative spirit. His surroundings are peaceful and evoke a sense of calm. The pig lies next to him like a pet. Once demons, the creatures of temptation are now more like goblins and do not disturb the peaceful feeling of the painting.\\nThis painting, originally framed with a semi-circular arch, was one of Bosch\\'s later works, from sometime after 1490. Philip II of Spain sent it to the Monastery of El Escorial near Madrid. From there the painting came to the Museo del Prado as part of the Royal Collection.\\n\\nSee also\\nTriptych of the Temptation of St. Anthony\\nList of paintings by Hieronymus Bosch\\n\\nReferences\\nSources\\nVarallo, Franca (2004). Bosch. Milan: Skira. ISBN 978-88-572-0615-8.\\n\\nExternal links\\nPage at official website (in English) (in Spanish)\\nComplete Works by Hieronymus Bosch'"
      ]
     },
     "execution_count": 31,
     "metadata": {},
     "output_type": "execute_result"
    }
   ],
   "source": [
    "page.text"
   ]
  },
  {
   "cell_type": "code",
   "execution_count": 26,
   "metadata": {},
   "outputs": [],
   "source": [
    "wiki_wiki.page."
   ]
  },
  {
   "cell_type": "code",
   "execution_count": null,
   "metadata": {},
   "outputs": [],
   "source": []
  },
  {
   "cell_type": "code",
   "execution_count": null,
   "metadata": {},
   "outputs": [],
   "source": []
  },
  {
   "cell_type": "code",
   "execution_count": null,
   "metadata": {},
   "outputs": [],
   "source": []
  },
  {
   "cell_type": "code",
   "execution_count": null,
   "metadata": {},
   "outputs": [],
   "source": []
  },
  {
   "cell_type": "code",
   "execution_count": null,
   "metadata": {},
   "outputs": [],
   "source": []
  },
  {
   "cell_type": "code",
   "execution_count": null,
   "metadata": {},
   "outputs": [],
   "source": []
  },
  {
   "cell_type": "code",
   "execution_count": 47,
   "metadata": {},
   "outputs": [
    {
     "data": {
      "text/plain": [
       "'The Headless Horseman Pursuing Ichabod Crane (1858) is a painting by American artist John Quidor, depicting a scene from Washington Irving\\'s short story \"The Legend of Sleepy Hollow\".\\nThe schoolmaster Ichabod Crane is fleeing on a white horse, pursued by the Headless Horseman on a black horse.  In one hand, the Headless Horseman is holding a pumpkin, which he is preparing to throw at Crane.  Visible in the background is the Old Dutch Church of Sleepy Hollow and the adjacent Sleepy Hollow Cemetery, and the full moon.\\nThe painting is one of several by the artist based on scenes from Irving\\'s written works about Dutch New York, including such paintings as Ichabod Crane Flying from the Headless Horseman (1828, Yale University Art Gallery) and The Return of Rip Van Winkle (1849, National Gallery of Art).Quidor first exhibited the picture at the National Academy of Design in New York City. It is currently displayed in the Smithsonian American Art Museum in Washington, D.C., which bought the painting in 1994.\\n\\nReferences\\nExternal links\\n Media related to The Headless Horseman Pursuing Ichabod Crane at Wikimedia Commons'"
      ]
     },
     "execution_count": 47,
     "metadata": {},
     "output_type": "execute_result"
    }
   ],
   "source": [
    "wiki_wiki = wikipediaapi.Wikipedia(\n",
    "        language='en',\n",
    "        extract_format=wikipediaapi.ExtractFormat.WIKI\n",
    ")\n",
    "\n",
    "p_wiki = wiki_wiki.page(\"The_Headless_Horseman_Pursuing_Ichabod_Crane\")\n",
    "p_wiki.text"
   ]
  },
  {
   "cell_type": "code",
   "execution_count": 49,
   "metadata": {},
   "outputs": [
    {
     "name": "stdout",
     "output_type": "stream",
     "text": [
      "The Headless Horseman Pursuing Ichabod Crane (1858) is a painting by American artist John Quidor, depicting a scene from Washington Irving's short story \"The Legend of Sleepy Hollow\".\n",
      "The schoolmaster Ichabod Crane is fleeing on a white horse, pursued by the Headless Horseman on a black horse.  In one hand, the Headless Horseman is holding a pumpkin, which he is preparing to throw at Crane.  Visible in the background is the Old Dutch Church of Sleepy Hollow and the adjacent Sleepy Hollow Cemetery, and the full moon.\n",
      "The painting is one of several by the artist based on scenes from Irving's written works about Dutch New York, including such paintings as Ichabod Crane Flying from the Headless Horseman (1828, Yale University Art Gallery) and The Return of Rip Van Winkle (1849, National Gallery of Art).Quidor first exhibited the picture at the National Academy of Design in New York City. It is currently displayed in the Smithsonian American Art Museum in Washington, D.C., which bought the painting in 1994.\n",
      "\n",
      "References\n",
      "External links\n",
      " Media related to The Headless Horseman Pursuing Ichabod Crane at Wikimedia Commons\n"
     ]
    }
   ],
   "source": [
    "print(p_wiki.text)"
   ]
  },
  {
   "cell_type": "code",
   "execution_count": null,
   "metadata": {},
   "outputs": [],
   "source": []
  },
  {
   "cell_type": "code",
   "execution_count": null,
   "metadata": {},
   "outputs": [],
   "source": []
  },
  {
   "cell_type": "code",
   "execution_count": null,
   "metadata": {},
   "outputs": [],
   "source": []
  },
  {
   "cell_type": "code",
   "execution_count": null,
   "metadata": {},
   "outputs": [],
   "source": []
  },
  {
   "cell_type": "code",
   "execution_count": null,
   "metadata": {},
   "outputs": [],
   "source": []
  },
  {
   "cell_type": "code",
   "execution_count": null,
   "metadata": {},
   "outputs": [],
   "source": []
  },
  {
   "cell_type": "code",
   "execution_count": null,
   "metadata": {},
   "outputs": [],
   "source": []
  },
  {
   "cell_type": "code",
   "execution_count": 21,
   "metadata": {
    "scrolled": true
   },
   "outputs": [
    {
     "ename": "TypeError",
     "evalue": "__init__() missing 1 required positional argument: 'title'",
     "output_type": "error",
     "traceback": [
      "\u001b[0;31m---------------------------------------------------------------------------\u001b[0m",
      "\u001b[0;31mTypeError\u001b[0m                                 Traceback (most recent call last)",
      "\u001b[0;32m<ipython-input-21-7ad0d075793e>\u001b[0m in \u001b[0;36m<module>\u001b[0;34m\u001b[0m\n\u001b[0;32m----> 1\u001b[0;31m \u001b[0mwikipediaapi\u001b[0m\u001b[0;34m.\u001b[0m\u001b[0mWikipediaPage\u001b[0m\u001b[0;34m(\u001b[0m\u001b[0;34m'Q17141380'\u001b[0m\u001b[0;34m)\u001b[0m\u001b[0;34m\u001b[0m\u001b[0m\n\u001b[0m",
      "\u001b[0;31mTypeError\u001b[0m: __init__() missing 1 required positional argument: 'title'"
     ]
    }
   ],
   "source": [
    "wikipediaapi.WikipediaPage('Q17141380')"
   ]
  },
  {
   "cell_type": "code",
   "execution_count": 51,
   "metadata": {},
   "outputs": [
    {
     "data": {
      "text/plain": [
       "'The Headless Horseman Pursuing Ichabod Crane (1858) is a painting by American artist John Quidor, depicting a scene from Washington Irving\\'s short story \"The Legend of Sleepy Hollow\".\\nThe schoolmaster Ichabod Crane is fleeing on a white horse, pursued by the Headless Horseman on a black horse.  In one hand, the Headless Horseman is holding a pumpkin, which he is preparing to throw at Crane.  Visible in the background is the Old Dutch Church of Sleepy Hollow and the adjacent Sleepy Hollow Cemetery, and the full moon.\\nThe painting is one of several by the artist based on scenes from Irving\\'s written works about Dutch New York, including such paintings as Ichabod Crane Flying from the Headless Horseman (1828, Yale University Art Gallery) and The Return of Rip Van Winkle (1849, National Gallery of Art).Quidor first exhibited the picture at the National Academy of Design in New York City. It is currently displayed in the Smithsonian American Art Museum in Washington, D.C., which bought the painting in 1994.\\n\\n\\n== References ==\\n\\n\\n== External links ==\\n Media related to The Headless Horseman Pursuing Ichabod Crane at Wikimedia Commons'"
      ]
     },
     "execution_count": 51,
     "metadata": {},
     "output_type": "execute_result"
    }
   ],
   "source": [
    "wikipedia.page(title='The_Headless_Horseman_Pursuing_Ichabod_Crane',\n",
    "               pageid=None, auto_suggest=False, redirect=True, preload=False).content"
   ]
  },
  {
   "cell_type": "code",
   "execution_count": null,
   "metadata": {},
   "outputs": [],
   "source": [
    "zep = wikipedia.page(imago)"
   ]
  },
  {
   "cell_type": "code",
   "execution_count": null,
   "metadata": {},
   "outputs": [],
   "source": [
    "def blerb(intext):\n",
    "    zaz = intext.content.replace('\\n\\n\\n== Description ==\\n', ' ')\n",
    "    zo = zaz.replace(\"\\n\\n\\n== History ==\", ' ')\n",
    "    zo = zo.replace(\"\\n\\n\\n== See also ==\\n\", ' ')\n",
    "    zo = zo.replace(\"== Content ==\", \".\")\n",
    "    zo = zo.replace(\"== Influences ==\", \".\")\n",
    "    zo = zo.replace(\"== References ==\", \".\")\n",
    "    zo = zo.replace(\"== Making ==\", \".\")\n",
    "\n",
    "    zo = zo.replace(\"....\", \".\")\n",
    "    zo = zo.rsplit('\\n\\n\\n== Notes')[0]\n",
    "    zo = zo.replace(\"\\\"\", \".\")\n",
    "    zo = zo.replace(\"\\n\", \".\")\n",
    "\n",
    "    zo = zo.replace(\".......\", \".\")\n",
    "    zo = zo.replace(\"......\", \".\")\n",
    "    zo = zo.replace(\".....\", \".\")\n",
    "    zo = zo.replace(\"....\", \".\")\n",
    "    und = 0\n",
    "    bruh = \"\"\n",
    "    if len(zo) > 1500:\n",
    "        for i in zo.rsplit('.'):\n",
    "            if und < 1500:\n",
    "                bruh += i\n",
    "                und += len(i)\n",
    "        bruh += '.'\n",
    "    return bruh"
   ]
  },
  {
   "cell_type": "code",
   "execution_count": null,
   "metadata": {},
   "outputs": [],
   "source": [
    "blerb(zep)"
   ]
  },
  {
   "cell_type": "code",
   "execution_count": null,
   "metadata": {},
   "outputs": [],
   "source": [
    "wdir = '/Users/anthonycelio/Documents/deep_news/!machine/art_set/'"
   ]
  },
  {
   "cell_type": "code",
   "execution_count": null,
   "metadata": {},
   "outputs": [],
   "source": []
  },
  {
   "cell_type": "code",
   "execution_count": 2,
   "metadata": {},
   "outputs": [],
   "source": [
    "ga = 'https://en.wikipedia.org/wiki/Wikipedia:Featured_pictures/Artwork/Paintings'"
   ]
  },
  {
   "cell_type": "code",
   "execution_count": 3,
   "metadata": {},
   "outputs": [],
   "source": [
    "req = Request(ga, headers={'User-Agent': 'Mozilla/5.0'})\n",
    "webpage = urlopen(req).read()\n",
    "soup = BeautifulSoup(webpage, \"html.parser\")"
   ]
  },
  {
   "cell_type": "code",
   "execution_count": 5,
   "metadata": {},
   "outputs": [],
   "source": [
    "mydivs = soup.findAll(\"div\", {\"class\": \"gallerytext\"})"
   ]
  },
  {
   "cell_type": "code",
   "execution_count": null,
   "metadata": {},
   "outputs": [],
   "source": []
  },
  {
   "cell_type": "code",
   "execution_count": 6,
   "metadata": {},
   "outputs": [],
   "source": [
    "imago = str(mydivs[0].findAll('a')[0]).rsplit(' ')[1][12:-1]\n",
    "imagog = str(mydivs[0].findAll('a')[0]).rsplit(' ')[0][12:-1]\n",
    "if len(imago) < len(imagog):\n",
    "    imago = imagog"
   ]
  },
  {
   "cell_type": "code",
   "execution_count": 7,
   "metadata": {},
   "outputs": [
    {
     "data": {
      "text/plain": [
       "'A_Philosopher_Lecturing_on_the_Orrery'"
      ]
     },
     "execution_count": 7,
     "metadata": {},
     "output_type": "execute_result"
    }
   ],
   "source": [
    "imago"
   ]
  },
  {
   "cell_type": "code",
   "execution_count": 11,
   "metadata": {},
   "outputs": [
    {
     "data": {
      "text/plain": [
       "'The Headless Horseman is a mythical figure who has appeared in folklore around the world since at least the Middle Ages. The Headless Horseman is traditionally depicted as a man upon horseback who is missing his head. Depending on the legend, the Horseman is either carrying his head, or is missing his head altogether, and is searching for it. Examples include the dullahan from Ireland who is a demonic fairy usually depicted riding a horse and carrying his head under his arm; the titular knight from the English tale Sir Gawain and the Green Knight; and \"The Legend of Sleepy Hollow,\" a short story written in 1820 by American Washington Irving, which has been adapted into several other works of literature and film including the 1999 Tim Burton film Sleepy Hollow.\\n\\n\\n== In American folklore ==\\n\\nThe Headless Horseman is a fictional character from the short story \"The Legend of Sleepy Hollow\" by American author Washington Irving. The story, from Irving\\'s collection of short stories entitled The Sketch Book of Geoffrey Crayon, Gent., has worked itself into known American folklore/legend through literature and film, including the 1999 Tim Burton film Sleepy Hollow.The legend of the Headless Horseman (also known as \"the Headless Hessian of the Hollow\") begins in Sleepy Hollow, New York, during the American Revolutionary War. Traditional folklore holds that the Horseman was a Hessian trooper who was killed during the Battle of White Plains in 1776. He was decapitated by an American cannonball, and the shattered remains of his head were left on the battlefield while his comrades hastily carried his body away. Eventually they buried him in the cemetery of the Old Dutch Church of Sleepy Hollow, from which he rises as a malevolent ghost, furiously seeking his lost head. Modern versions of the story refer his rides to Halloween, around which time the battle took place.The Headless Horseman is also a novel by Mayne Reid, first published in monthly serialized form during 1865 and 1866, and subsequently published as a book in 1866, based on the author\\'s adventures in the United States. \"The Headless Horseman\" or \"A Strange Tale of Texas\" was set in Texas and based on a south Texas folk tale.\\n\\n\\n== In Irish folklore ==\\nThe dullahan or dulachán (\"dark man\") is a headless, demonic fairy, usually riding a horse and carrying his head under his arm. He wields a whip made from a human corpse\\'s spine. When the dullahan stops riding, a death occurs. The dullahan calls out a name, at which point the named person immediately dies. In another version, he is the headless driver of a black carriage. A similar figure, the gan ceann (\"without a head\"), can be frightened away by wearing a gold object or putting one in his path.\\n\\n\\n== In Scottish folklore ==\\nThe most prominent Scots tale of the headless horseman concerns a man named Ewen decapitated in a clan battle at Glen Cainnir on the Isle of Mull. The battle denied him any chance to be a chieftain, and both he and his horse are headless in accounts of his haunting of the area.\\n\\n\\n== In English folklore ==\\nThe 14th century poem Gawain and the Green Knight features a headless horseman, the titular giant knight. After he is beheaded by Gawain, the Green Knight lifts his head up with one hand and rides from the hall, challenging Gawain to meet him again one year later.\\n\\n\\n== In German folklore ==\\nThe German Legends of the Brothers Grimm (Deutsche Sagen) recount two German folk tales of a headless horseman being spotted with their own eyes.\\nOne is set near Dresden in Saxony. In this tale, a woman from Dresden goes out early one Sunday morning to gather acorns in a forest. At a place called \"Lost Waters\", she hears a hunting horn. When she hears it again, she turns around and she sees a headless man in a long grey coat sitting on a grey horse.\\nIn another German tale, set in Brunswick in Lower Saxony, a headless horseman called \"the wild huntsman\" blows a horn to warn hunters not to ride the next day, because they will meet with an accident.\\nIn some German versions of the headless horseman, he seeks out the perpetrators of capital crimes. In others, he has a pack of black hounds with tongues of fire.\\n\\n\\n== In Indian folklore ==\\nThe jhinjhār is a headless horseman found in the folklore of Rajasthan and Madhya Pradesh. Unlike European depictions, this headless horseman is often portrayed as a heroic figure; folklore states that jhinjhārs are said to be born out of violent and wrongful deaths that occur in protecting innocents. Most stories about the jhinjhār describe it as a Rajput prince who lost its head while defending a village or caravan from bandits but refusing to back down even after being beheaded, while other versions describe it as a Mughal cavalryman trying to defend its prince.\\n\\n\\n== In popular culture ==\\n\\n\\n=== Comics ===\\nThe comic book series Chopper, written by Martin Shapiro, is a modern-day reimagining of the headless horseman. It features a headless outlaw biker on a motorcycle who collects the souls of sinners. The only people who can see him are those who have consumed a strange new Ecstasy-like drug that triggers their sixth sense and opens a gateway to the afterlife. During the hallucinogenic high, any characters who have committed significant sins are hunted by the headless ghost. Once the drug wears off the victim is safe and beyond the headless horseman\\'s ghostly reach.\\n\\n\\n=== Television ===\\nThe Kolchak: The Night Stalker episode \"Chopper\" (initially broadcast on January 31, 1975) features a headless motorcyclist who enacts revenge for the loss of his head on a rival biker gang, 20 years after his murder.In the Midsomer Murders episode \"The Dark Rider\", a killer lures several victims to their deaths by masquerading as a headless horseman from local legend.\\n\\n\\n== See also ==\\ncephalophore, beheaded Christian martyred saints\\nSaints Gemolo and Himerius of Bosto\\nHeadless Mule, a character in Brazilian folklore\\nList of ghosts\\nList of ghost films\\nHeadless men\\n\\n\\n== Notes =='"
      ]
     },
     "execution_count": 11,
     "metadata": {},
     "output_type": "execute_result"
    }
   ],
   "source": [
    "wikipedia.page('The_Headless_Horseman_Pursuing_Ichabod_Crane').content"
   ]
  },
  {
   "cell_type": "code",
   "execution_count": null,
   "metadata": {},
   "outputs": [],
   "source": [
    "comment[0].findAll('p')[0].text"
   ]
  },
  {
   "cell_type": "code",
   "execution_count": null,
   "metadata": {},
   "outputs": [],
   "source": [
    "len('In this interior scene of the artist’s summer residence in Maine, Frank Weston Benson depicted his daughterElisabeth curled up in a rattan chair near a large fireplace. A key figure of American Impressionism, Benson is best known for his outdoor figural compositions—often featuring his wife or children—in sun-filled, breezy landscapes. Rainy Day, in contrast, is a study of the subtler effects of interior light, with flat, overcast lighting filtering in from the left and embers glowing at far right. In the late 19th century, painters including Benson, Edmund Tarbell, and Thomas Wilmer Dewing composed scenes of women in interiors in a contemplative state or engaged in activities like sewing and reading, suggesting links between domesticity, femininity, and cultural refinement.')"
   ]
  },
  {
   "cell_type": "code",
   "execution_count": null,
   "metadata": {},
   "outputs": [],
   "source": [
    "photo = soup.findAll(\"div\", {\"class\": \"PbVjBf uFenQ nqLMzf\"})"
   ]
  },
  {
   "cell_type": "code",
   "execution_count": null,
   "metadata": {},
   "outputs": [],
   "source": [
    "photo"
   ]
  },
  {
   "cell_type": "code",
   "execution_count": null,
   "metadata": {},
   "outputs": [],
   "source": []
  },
  {
   "cell_type": "code",
   "execution_count": null,
   "metadata": {},
   "outputs": [],
   "source": []
  },
  {
   "cell_type": "code",
   "execution_count": null,
   "metadata": {},
   "outputs": [],
   "source": [
    "ga = 'https://artsandculture.google.com/asset/venus-and-vulcan/hAEuEwSrLZ_FQw?ms=%7B%22x%22%3A0.7040565848666179%2C%22y%22%3A0.33116513192360014%2C%22z%22%3A12%2C%22size%22%3A%7B%22width%22%3A0.12795477903391572%2C%22height%22%3A0.1456896551724138%7D%7D'"
   ]
  },
  {
   "cell_type": "code",
   "execution_count": null,
   "metadata": {},
   "outputs": [],
   "source": [
    "req = Request(ga, headers={'User-Agent': 'Mozilla/5.0'})\n",
    "webpage = urlopen(req).read()\n",
    "soup = BeautifulSoup(webpage, \"html.parser\")"
   ]
  },
  {
   "cell_type": "code",
   "execution_count": null,
   "metadata": {},
   "outputs": [],
   "source": []
  },
  {
   "cell_type": "code",
   "execution_count": null,
   "metadata": {},
   "outputs": [],
   "source": [
    "urls = re.findall('http[s]?://(?:[a-zA-Z]|[0-9]|[$-_@.&+]|[!*\\(\\),]|(?:%[0-9a-fA-F][0-9a-fA-F]))+', str(soup))"
   ]
  },
  {
   "cell_type": "code",
   "execution_count": null,
   "metadata": {},
   "outputs": [],
   "source": [
    "urls"
   ]
  },
  {
   "cell_type": "code",
   "execution_count": null,
   "metadata": {},
   "outputs": [],
   "source": []
  },
  {
   "cell_type": "code",
   "execution_count": null,
   "metadata": {},
   "outputs": [],
   "source": [
    "wdir = '/Users/anthonycelio/Documents/deep_news/!machine/art_set/MET/'"
   ]
  },
  {
   "cell_type": "code",
   "execution_count": null,
   "metadata": {},
   "outputs": [],
   "source": [
    "t = str(uuid.uuid4())[-12:]\n",
    "sha = wdir+t+'/'\n",
    "os.makedirs(sha)\n",
    "os.chdir(sha)"
   ]
  },
  {
   "cell_type": "code",
   "execution_count": null,
   "metadata": {},
   "outputs": [],
   "source": [
    "for m in urls:\n",
    "    try:\n",
    "        urllib.request.urlretrieve(m, sha+str(uuid.uuid4())[-5:]+'.png')\n",
    "    except:\n",
    "        pass"
   ]
  },
  {
   "cell_type": "code",
   "execution_count": null,
   "metadata": {},
   "outputs": [],
   "source": [
    "d = {}\n",
    "for i in os.listdir(sha):\n",
    "    cu = os.stat(i).st_size\n",
    "    d[i] = cu"
   ]
  },
  {
   "cell_type": "code",
   "execution_count": null,
   "metadata": {},
   "outputs": [],
   "source": [
    "for x in os.listdir(sha):\n",
    "    if x != max(d.items(), key=operator.itemgetter(1))[0]:\n",
    "        if x[-4:] != 'ther':\n",
    "            os.remove(x)"
   ]
  },
  {
   "cell_type": "code",
   "execution_count": null,
   "metadata": {},
   "outputs": [],
   "source": []
  },
  {
   "cell_type": "code",
   "execution_count": null,
   "metadata": {},
   "outputs": [],
   "source": []
  },
  {
   "cell_type": "code",
   "execution_count": null,
   "metadata": {},
   "outputs": [],
   "source": []
  },
  {
   "cell_type": "code",
   "execution_count": null,
   "metadata": {},
   "outputs": [],
   "source": []
  },
  {
   "cell_type": "code",
   "execution_count": null,
   "metadata": {},
   "outputs": [],
   "source": []
  },
  {
   "cell_type": "code",
   "execution_count": null,
   "metadata": {},
   "outputs": [],
   "source": []
  },
  {
   "cell_type": "code",
   "execution_count": null,
   "metadata": {},
   "outputs": [],
   "source": []
  },
  {
   "cell_type": "code",
   "execution_count": null,
   "metadata": {},
   "outputs": [],
   "source": []
  },
  {
   "cell_type": "code",
   "execution_count": 3,
   "metadata": {},
   "outputs": [],
   "source": [
    "wdir = '/Users/anthonycelio/Documents/deep_news/!machine/art_set/artic/'"
   ]
  },
  {
   "cell_type": "code",
   "execution_count": 4,
   "metadata": {},
   "outputs": [],
   "source": [
    "def get_art():\n",
    "    inter = random.randint(0, 140000)\n",
    "    ga = 'https://www.artic.edu/artworks/'+str(inter)+'/'\n",
    "    #ga = 'https://www.artic.edu/artworks/64479/'\n",
    "    req = Request(ga, headers={'User-Agent': 'Mozilla/5.0'})\n",
    "    webpage = urlopen(req).read()\n",
    "    soup = BeautifulSoup(webpage, \"html.parser\")\n",
    "    comment = soup.findAll(\"div\", {\"class\": \"o-blocks\"})\n",
    "\n",
    "    cment = comment[0].findAll('p')[0].text\n",
    "    if len(cment) > 650:\n",
    "        wdf = pd.DataFrame([cment])\n",
    "\n",
    "        t = str(uuid.uuid4())[-12:]\n",
    "        sha = wdir+t+'/'\n",
    "        os.makedirs(sha)\n",
    "        os.chdir(sha)\n",
    "\n",
    "        path = sha+'my_data.feather' \n",
    "        feather.write_dataframe(wdf, path)\n",
    "        photo = soup.findAll(\"div\", {\"class\": \"m-article-header__img-container\"})\n",
    "        urls = re.findall('http[s]?://(?:[a-zA-Z]|[0-9]|[$-_@.&+]|[!*\\(\\),]|(?:%[0-9a-fA-F][0-9a-fA-F]))+', str(photo))\n",
    "        for m in urls:\n",
    "            if m[-3:] == 'jpg':\n",
    "                urllib.request.urlretrieve(m, sha+str(uuid.uuid4())[-5:]+'.jpg')\n",
    "        d = {}\n",
    "        for i in os.listdir(sha):\n",
    "            cu = os.stat(i).st_size\n",
    "            d[i] = cu\n",
    "        for x in os.listdir(sha):\n",
    "            if x != max(d.items(), key=operator.itemgetter(1))[0]:\n",
    "                if x[-4:] != 'ther':\n",
    "                    os.remove(x)"
   ]
  },
  {
   "cell_type": "code",
   "execution_count": null,
   "metadata": {
    "scrolled": true
   },
   "outputs": [],
   "source": [
    "get_art()"
   ]
  },
  {
   "cell_type": "code",
   "execution_count": 5,
   "metadata": {},
   "outputs": [
    {
     "data": {
      "application/vnd.jupyter.widget-view+json": {
       "model_id": "e5fc90c1427b45de9c845a86028400b3",
       "version_major": 2,
       "version_minor": 0
      },
      "text/plain": [
       "HBox(children=(IntProgress(value=0, max=10000), HTML(value='')))"
      ]
     },
     "metadata": {},
     "output_type": "display_data"
    },
    {
     "name": "stdout",
     "output_type": "stream",
     "text": [
      "\n"
     ]
    }
   ],
   "source": [
    "for i in tqdm(range(10000)):\n",
    "    try:\n",
    "        get_art()\n",
    "    except:\n",
    "        pass"
   ]
  },
  {
   "cell_type": "code",
   "execution_count": null,
   "metadata": {},
   "outputs": [],
   "source": []
  },
  {
   "cell_type": "code",
   "execution_count": null,
   "metadata": {},
   "outputs": [],
   "source": []
  },
  {
   "cell_type": "code",
   "execution_count": null,
   "metadata": {},
   "outputs": [],
   "source": []
  },
  {
   "cell_type": "code",
   "execution_count": null,
   "metadata": {},
   "outputs": [],
   "source": []
  },
  {
   "cell_type": "code",
   "execution_count": null,
   "metadata": {},
   "outputs": [],
   "source": []
  },
  {
   "cell_type": "code",
   "execution_count": null,
   "metadata": {},
   "outputs": [],
   "source": [
    "sha = '/Users/anthonycelio/Documents/deep_news/!machine/art_set/artic/'"
   ]
  },
  {
   "cell_type": "code",
   "execution_count": null,
   "metadata": {},
   "outputs": [],
   "source": [
    "missed2 = []\n",
    "for ii in tqdm(range(len(missed))):\n",
    "    try:\n",
    "         imago = str(mydivs[ii].findAll('a')[0]).rsplit(' ')[1][12:-1]\n",
    "         imagog = str(mydivs[ii].findAll('a')[0]).rsplit(' ')[0][12:-1]\n",
    "         if len(imago) < len(imagog):\n",
    "             imago = imagog\n",
    "\n",
    "        zep = wikipedia.page(imago)\n",
    "\n",
    "        t = str(uuid.uuid4())[-12:]\n",
    "        sha = wdir+t+'/'\n",
    "        os.makedirs(sha)\n",
    "        os.chdir(sha)\n",
    "        for m in tqdm(zep.images):\n",
    "            urllib.request.urlretrieve(m, sha+str(uuid.uuid4())[-5:]+m[-14:])\n",
    "        d = {}\n",
    "        for i in os.listdir(sha):\n",
    "            cu = os.stat(i).st_size\n",
    "            d[i] = cu\n",
    "        for x in os.listdir(sha):\n",
    "            if x != max(d.items(), key=operator.itemgetter(1))[0]:\n",
    "                os.remove(x)\n",
    "\n",
    "        wdf = pd.DataFrame([blerb(zep)])\n",
    "        path = sha+'my_data.feather' \n",
    "        feather.write_dataframe(wdf, path)\n",
    "    except:\n",
    "        missed2.append(imago)\n",
    "        pass"
   ]
  },
  {
   "cell_type": "code",
   "execution_count": null,
   "metadata": {},
   "outputs": [],
   "source": []
  },
  {
   "cell_type": "code",
   "execution_count": null,
   "metadata": {},
   "outputs": [],
   "source": []
  },
  {
   "cell_type": "code",
   "execution_count": null,
   "metadata": {},
   "outputs": [],
   "source": [
    "zep = wikipedia.page(imago)"
   ]
  },
  {
   "cell_type": "code",
   "execution_count": null,
   "metadata": {},
   "outputs": [],
   "source": []
  },
  {
   "cell_type": "code",
   "execution_count": null,
   "metadata": {},
   "outputs": [],
   "source": []
  },
  {
   "cell_type": "code",
   "execution_count": null,
   "metadata": {},
   "outputs": [],
   "source": [
    "wdf = pd.DataFrame([blerb(zep)])"
   ]
  },
  {
   "cell_type": "code",
   "execution_count": null,
   "metadata": {},
   "outputs": [],
   "source": [
    "wdf"
   ]
  },
  {
   "cell_type": "code",
   "execution_count": null,
   "metadata": {},
   "outputs": [],
   "source": [
    "path = wdir+'my_data.feather' \n",
    "feather.write_dataframe(wdf, path)\n",
    "wdf = feather.read_dataframe(path)"
   ]
  },
  {
   "cell_type": "code",
   "execution_count": null,
   "metadata": {},
   "outputs": [],
   "source": [
    "fea = '/Users/anthonycelio/Documents/deep_news/!machine/art_set/401c8e3bcb98/my_data.feather'"
   ]
  },
  {
   "cell_type": "code",
   "execution_count": null,
   "metadata": {},
   "outputs": [],
   "source": [
    "furv = feather.read_dataframe(fea)"
   ]
  },
  {
   "cell_type": "code",
   "execution_count": null,
   "metadata": {},
   "outputs": [],
   "source": [
    "furv.loc[0][0]"
   ]
  },
  {
   "cell_type": "code",
   "execution_count": null,
   "metadata": {
    "scrolled": true
   },
   "outputs": [],
   "source": [
    "shutil.rmtree"
   ]
  },
  {
   "cell_type": "code",
   "execution_count": null,
   "metadata": {},
   "outputs": [],
   "source": [
    "for i in os.listdir(wdir):\n",
    "    try:\n",
    "        bub = wdir+i+'/'\n",
    "        if len(os.listdir(bub)) != 2:\n",
    "            shutil.rmtree(bub)\n",
    "    except:\n",
    "        print('I had to pass')\n",
    "        pass"
   ]
  },
  {
   "cell_type": "code",
   "execution_count": null,
   "metadata": {},
   "outputs": [],
   "source": []
  },
  {
   "cell_type": "code",
   "execution_count": null,
   "metadata": {},
   "outputs": [],
   "source": []
  },
  {
   "cell_type": "code",
   "execution_count": null,
   "metadata": {},
   "outputs": [],
   "source": [
    "Image.MAX_IMAGE_PIXELS = None\n",
    "from PIL import Image\n",
    "img = Image.open(emage)"
   ]
  },
  {
   "cell_type": "code",
   "execution_count": null,
   "metadata": {},
   "outputs": [],
   "source": [
    "# W x H\n",
    "new_img = img.resize((int(0.3 * img.width), int(0.3 * img.height)))\n",
    "new_img.save(werdir+\"resized.jpg\", \"JPEG\", optimize=False)"
   ]
  },
  {
   "cell_type": "code",
   "execution_count": null,
   "metadata": {},
   "outputs": [],
   "source": []
  },
  {
   "cell_type": "code",
   "execution_count": null,
   "metadata": {},
   "outputs": [],
   "source": []
  },
  {
   "cell_type": "code",
   "execution_count": null,
   "metadata": {},
   "outputs": [],
   "source": []
  },
  {
   "cell_type": "code",
   "execution_count": null,
   "metadata": {},
   "outputs": [],
   "source": []
  }
 ],
 "metadata": {
  "kernelspec": {
   "display_name": "Python 3",
   "language": "python",
   "name": "python3"
  },
  "language_info": {
   "codemirror_mode": {
    "name": "ipython",
    "version": 3
   },
   "file_extension": ".py",
   "mimetype": "text/x-python",
   "name": "python",
   "nbconvert_exporter": "python",
   "pygments_lexer": "ipython3",
   "version": "3.7.0"
  }
 },
 "nbformat": 4,
 "nbformat_minor": 2
}
